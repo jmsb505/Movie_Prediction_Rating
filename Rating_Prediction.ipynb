{
  "cells": [
    {
      "cell_type": "markdown",
      "metadata": {
        "id": "9D6DcbQSxKSq"
      },
      "source": [
        "# Aprendizaje Automático - Proyecto Final\n",
        "\n",
        "**Grupo 2:** Carlos Montiel, Juan Sánches y Alejandro Duque\n",
        "\n",
        "**Tema:** Predicción del rating promedio de una película dada una cadena de tags que la describan"
      ]
    },
    {
      "cell_type": "markdown",
      "metadata": {
        "id": "cS5GLxZ0xKSw"
      },
      "source": [
        "# Introducción"
      ]
    },
    {
      "cell_type": "markdown",
      "source": [
        "Dentro del mundo cinematográfico es sumamente difícil saber cómo va a ser la recepción a una película lanzada basándose en un texto crítico, varias publicaciones o incluso usuarios críticos hacen uso de textos extensos, pero es difícil lograr interpretar el rating promedio que esta película va a tener según la semántica usada. Nuestro modelo trata de resolver este problema usando como experiencia (E)  la base de datos MovieLens, una base de datos que contiene 27 millones de ratings aplicado a 58 mil películas por 280 mil usuarios. Como ya se dijo previamente la tarea en cuestión (T) es lograr predecir el rating medio de la película según los tags fundamentales obtenidos del texto. Finalmente, el desempeño (P) de este modelo se basa en la cercanía de la predicción a la media de la clasificación real."
      ],
      "metadata": {
        "id": "a-g-hu8gRy1I"
      }
    },
    {
      "cell_type": "markdown",
      "metadata": {
        "id": "PWyit2SjxKSx"
      },
      "source": [
        "# Desarrollo"
      ]
    },
    {
      "cell_type": "markdown",
      "metadata": {
        "id": "VXzTcZRNs3CT"
      },
      "source": [
        "## Installs"
      ]
    },
    {
      "cell_type": "code",
      "execution_count": null,
      "metadata": {
        "id": "7SK900gos4ZW",
        "colab": {
          "base_uri": "https://localhost:8080/"
        },
        "outputId": "6fef2542-96c1-4f14-f5c4-414b9b480751"
      },
      "outputs": [
        {
          "output_type": "stream",
          "name": "stdout",
          "text": [
            "Looking in indexes: https://pypi.org/simple, https://us-python.pkg.dev/colab-wheels/public/simple/\n",
            "Collecting scikeras\n",
            "  Downloading scikeras-0.9.0-py3-none-any.whl (27 kB)\n",
            "Requirement already satisfied: packaging>=0.21 in /usr/local/lib/python3.8/dist-packages (from scikeras) (21.3)\n",
            "Requirement already satisfied: scikit-learn>=1.0.0 in /usr/local/lib/python3.8/dist-packages (from scikeras) (1.0.2)\n",
            "Requirement already satisfied: pyparsing!=3.0.5,>=2.0.2 in /usr/local/lib/python3.8/dist-packages (from packaging>=0.21->scikeras) (3.0.9)\n",
            "Requirement already satisfied: joblib>=0.11 in /usr/local/lib/python3.8/dist-packages (from scikit-learn>=1.0.0->scikeras) (1.2.0)\n",
            "Requirement already satisfied: scipy>=1.1.0 in /usr/local/lib/python3.8/dist-packages (from scikit-learn>=1.0.0->scikeras) (1.7.3)\n",
            "Requirement already satisfied: threadpoolctl>=2.0.0 in /usr/local/lib/python3.8/dist-packages (from scikit-learn>=1.0.0->scikeras) (3.1.0)\n",
            "Requirement already satisfied: numpy>=1.14.6 in /usr/local/lib/python3.8/dist-packages (from scikit-learn>=1.0.0->scikeras) (1.21.6)\n",
            "Installing collected packages: scikeras\n",
            "Successfully installed scikeras-0.9.0\n",
            "Looking in indexes: https://pypi.org/simple, https://us-python.pkg.dev/colab-wheels/public/simple/\n",
            "Collecting tensorflow_addons\n",
            "  Downloading tensorflow_addons-0.19.0-cp38-cp38-manylinux_2_17_x86_64.manylinux2014_x86_64.whl (1.1 MB)\n",
            "\u001b[K     |████████████████████████████████| 1.1 MB 3.9 MB/s \n",
            "\u001b[?25hRequirement already satisfied: typeguard>=2.7 in /usr/local/lib/python3.8/dist-packages (from tensorflow_addons) (2.7.1)\n",
            "Requirement already satisfied: packaging in /usr/local/lib/python3.8/dist-packages (from tensorflow_addons) (21.3)\n",
            "Requirement already satisfied: pyparsing!=3.0.5,>=2.0.2 in /usr/local/lib/python3.8/dist-packages (from packaging->tensorflow_addons) (3.0.9)\n",
            "Installing collected packages: tensorflow-addons\n",
            "Successfully installed tensorflow-addons-0.19.0\n"
          ]
        }
      ],
      "source": [
        "! pip3 install scikeras\n",
        "! pip3 install tensorflow_addons"
      ]
    },
    {
      "cell_type": "markdown",
      "metadata": {
        "id": "PGZvqMioxKSy"
      },
      "source": [
        "## Imports"
      ]
    },
    {
      "cell_type": "code",
      "execution_count": null,
      "metadata": {
        "id": "3Wi1FynaxKS1",
        "colab": {
          "base_uri": "https://localhost:8080/"
        },
        "outputId": "624e90d5-142a-4f5e-cff8-377bbb0333b9"
      },
      "outputs": [
        {
          "output_type": "stream",
          "name": "stderr",
          "text": [
            "[nltk_data] Downloading package stopwords to /root/nltk_data...\n",
            "[nltk_data]   Package stopwords is already up-to-date!\n"
          ]
        }
      ],
      "source": [
        "# Remove warning from cells\n",
        "import os\n",
        "import warnings\n",
        "warnings.filterwarnings('ignore')\n",
        "os.environ['TF_CPP_MIN_LOG_LEVEL'] = '2'\n",
        "import gdown\n",
        "\n",
        "\n",
        "# Basic Imports\n",
        "import pandas as pd\n",
        "import numpy as np\n",
        "\n",
        "\n",
        "# Preprocesamiento\n",
        "import string\n",
        "import nltk\n",
        "nltk.download('stopwords')\n",
        "from nltk.corpus import stopwords\n",
        "\n",
        "import seaborn as sns\n",
        "import matplotlib.pyplot as plt\n",
        "\n",
        "from sklearn.preprocessing import MinMaxScaler\n",
        "from sklearn.manifold import TSNE\n",
        "\n",
        "# Modelos\n",
        "import tensorflow as tf\n",
        "import tensorflow_hub as hub\n",
        "from tensorflow_addons.metrics import RSquare\n",
        "import keras\n",
        "from keras.metrics import MeanSquaredError, RootMeanSquaredError\n",
        "from keras.utils.generic_utils import get_custom_objects\n",
        "from scikeras.wrappers import KerasRegressor\n",
        "from sklearn.pipeline import Pipeline,  make_pipeline\n",
        "from sklearn.preprocessing import PolynomialFeatures\n",
        "from sklearn.linear_model import ElasticNet\n",
        "from sklearn.metrics import mean_squared_error, r2_score\n",
        "\n",
        "# Seleccion de modelo\n",
        "from sklearn.model_selection import RepeatedKFold, KFold, GridSearchCV\n",
        "from sklearn.model_selection import cross_validate, cross_val_score\n",
        "from sklearn.model_selection import train_test_split\n",
        "\n",
        "from scipy.stats import wilcoxon\n",
        "\n",
        "# Exportacion de modelo\n",
        "import joblib"
      ]
    },
    {
      "cell_type": "markdown",
      "metadata": {
        "id": "Dv2XNM-sxKS4"
      },
      "source": [
        "## Raw Datasets"
      ]
    },
    {
      "cell_type": "markdown",
      "metadata": {
        "id": "1a-7M2cCxKS5"
      },
      "source": [
        "Se utilizará el dataset: https://grouplens.org/datasets/movielens/latest/\n",
        "\n",
        "Esta base de datos contiene tags y ratings que 280 mil usuarios asignaron a 58 mil películas. Los datos se organizan de forma relacional estructurada, dentro de archivos csv"
      ]
    },
    {
      "cell_type": "code",
      "execution_count": null,
      "metadata": {
        "id": "9HYjIWFiJOm7"
      },
      "outputs": [],
      "source": [
        "dataset = \"ml-latest\""
      ]
    },
    {
      "cell_type": "markdown",
      "metadata": {
        "id": "Wk9xpSFd79l3"
      },
      "source": [
        "### Descargar datasets"
      ]
    },
    {
      "cell_type": "code",
      "execution_count": null,
      "metadata": {
        "id": "iWcv10an8CIS",
        "colab": {
          "base_uri": "https://localhost:8080/"
        },
        "outputId": "b524395e-a642-4c34-c631-66ee0bb6671e"
      },
      "outputs": [
        {
          "output_type": "execute_result",
          "data": {
            "text/plain": [
              "256"
            ]
          },
          "metadata": {},
          "execution_count": 22
        }
      ],
      "source": [
        "dataset_url = f\"https://files.grouplens.org/datasets/movielens/{dataset}.zip\"\n",
        "os.system(f\"wget  {dataset_url}\")\n",
        "os.system(f\"unzip  {dataset}.zip\")"
      ]
    },
    {
      "cell_type": "markdown",
      "metadata": {
        "id": "IH3POHAXxKS6"
      },
      "source": [
        "### Lectura de datasets"
      ]
    },
    {
      "cell_type": "code",
      "execution_count": null,
      "metadata": {
        "id": "VIDO6B7MxKS7"
      },
      "outputs": [],
      "source": [
        "def read_file(file_name):\n",
        "    return pd.read_csv(f'./{dataset}/{file_name}.csv')"
      ]
    },
    {
      "cell_type": "code",
      "execution_count": null,
      "metadata": {
        "id": "ZOItF7SwxKS8"
      },
      "outputs": [],
      "source": [
        "movies = read_file('movies')\n",
        "ratings = read_file('ratings')\n",
        "tags = read_file('tags')"
      ]
    },
    {
      "cell_type": "markdown",
      "metadata": {
        "id": "xPXDxiRaxKS9"
      },
      "source": [
        "El archivo movies.csv contiene la tabla de información de cada película. La llave primaria es el movie Id"
      ]
    },
    {
      "cell_type": "code",
      "execution_count": null,
      "metadata": {
        "id": "XwS7vjm5xKS-",
        "colab": {
          "base_uri": "https://localhost:8080/"
        },
        "outputId": "ce4b4c05-e6c4-4f09-dc11-948c34a186aa"
      },
      "outputs": [
        {
          "output_type": "execute_result",
          "data": {
            "text/plain": [
              "       movieId                                    title  \\\n",
              "0            1                         Toy Story (1995)   \n",
              "1            2                           Jumanji (1995)   \n",
              "2            3                  Grumpier Old Men (1995)   \n",
              "3            4                 Waiting to Exhale (1995)   \n",
              "4            5       Father of the Bride Part II (1995)   \n",
              "...        ...                                      ...   \n",
              "58093   193876                  The Great Glinka (1946)   \n",
              "58094   193878  Les tribulations d'une caissière (2011)   \n",
              "58095   193880                 Her Name Was Mumu (2016)   \n",
              "58096   193882                             Flora (2017)   \n",
              "58097   193886                              Leal (2018)   \n",
              "\n",
              "                                            genres  \n",
              "0      Adventure|Animation|Children|Comedy|Fantasy  \n",
              "1                       Adventure|Children|Fantasy  \n",
              "2                                   Comedy|Romance  \n",
              "3                             Comedy|Drama|Romance  \n",
              "4                                           Comedy  \n",
              "...                                            ...  \n",
              "58093                           (no genres listed)  \n",
              "58094                                       Comedy  \n",
              "58095                                        Drama  \n",
              "58096                Adventure|Drama|Horror|Sci-Fi  \n",
              "58097                           Action|Crime|Drama  \n",
              "\n",
              "[58098 rows x 3 columns]"
            ],
            "text/html": [
              "\n",
              "  <div id=\"df-009826b3-a8e6-4740-b7be-10c2c90bf845\">\n",
              "    <div class=\"colab-df-container\">\n",
              "      <div>\n",
              "<style scoped>\n",
              "    .dataframe tbody tr th:only-of-type {\n",
              "        vertical-align: middle;\n",
              "    }\n",
              "\n",
              "    .dataframe tbody tr th {\n",
              "        vertical-align: top;\n",
              "    }\n",
              "\n",
              "    .dataframe thead th {\n",
              "        text-align: right;\n",
              "    }\n",
              "</style>\n",
              "<table border=\"1\" class=\"dataframe\">\n",
              "  <thead>\n",
              "    <tr style=\"text-align: right;\">\n",
              "      <th></th>\n",
              "      <th>movieId</th>\n",
              "      <th>title</th>\n",
              "      <th>genres</th>\n",
              "    </tr>\n",
              "  </thead>\n",
              "  <tbody>\n",
              "    <tr>\n",
              "      <th>0</th>\n",
              "      <td>1</td>\n",
              "      <td>Toy Story (1995)</td>\n",
              "      <td>Adventure|Animation|Children|Comedy|Fantasy</td>\n",
              "    </tr>\n",
              "    <tr>\n",
              "      <th>1</th>\n",
              "      <td>2</td>\n",
              "      <td>Jumanji (1995)</td>\n",
              "      <td>Adventure|Children|Fantasy</td>\n",
              "    </tr>\n",
              "    <tr>\n",
              "      <th>2</th>\n",
              "      <td>3</td>\n",
              "      <td>Grumpier Old Men (1995)</td>\n",
              "      <td>Comedy|Romance</td>\n",
              "    </tr>\n",
              "    <tr>\n",
              "      <th>3</th>\n",
              "      <td>4</td>\n",
              "      <td>Waiting to Exhale (1995)</td>\n",
              "      <td>Comedy|Drama|Romance</td>\n",
              "    </tr>\n",
              "    <tr>\n",
              "      <th>4</th>\n",
              "      <td>5</td>\n",
              "      <td>Father of the Bride Part II (1995)</td>\n",
              "      <td>Comedy</td>\n",
              "    </tr>\n",
              "    <tr>\n",
              "      <th>...</th>\n",
              "      <td>...</td>\n",
              "      <td>...</td>\n",
              "      <td>...</td>\n",
              "    </tr>\n",
              "    <tr>\n",
              "      <th>58093</th>\n",
              "      <td>193876</td>\n",
              "      <td>The Great Glinka (1946)</td>\n",
              "      <td>(no genres listed)</td>\n",
              "    </tr>\n",
              "    <tr>\n",
              "      <th>58094</th>\n",
              "      <td>193878</td>\n",
              "      <td>Les tribulations d'une caissière (2011)</td>\n",
              "      <td>Comedy</td>\n",
              "    </tr>\n",
              "    <tr>\n",
              "      <th>58095</th>\n",
              "      <td>193880</td>\n",
              "      <td>Her Name Was Mumu (2016)</td>\n",
              "      <td>Drama</td>\n",
              "    </tr>\n",
              "    <tr>\n",
              "      <th>58096</th>\n",
              "      <td>193882</td>\n",
              "      <td>Flora (2017)</td>\n",
              "      <td>Adventure|Drama|Horror|Sci-Fi</td>\n",
              "    </tr>\n",
              "    <tr>\n",
              "      <th>58097</th>\n",
              "      <td>193886</td>\n",
              "      <td>Leal (2018)</td>\n",
              "      <td>Action|Crime|Drama</td>\n",
              "    </tr>\n",
              "  </tbody>\n",
              "</table>\n",
              "<p>58098 rows × 3 columns</p>\n",
              "</div>\n",
              "      <button class=\"colab-df-convert\" onclick=\"convertToInteractive('df-009826b3-a8e6-4740-b7be-10c2c90bf845')\"\n",
              "              title=\"Convert this dataframe to an interactive table.\"\n",
              "              style=\"display:none;\">\n",
              "        \n",
              "  <svg xmlns=\"http://www.w3.org/2000/svg\" height=\"24px\"viewBox=\"0 0 24 24\"\n",
              "       width=\"24px\">\n",
              "    <path d=\"M0 0h24v24H0V0z\" fill=\"none\"/>\n",
              "    <path d=\"M18.56 5.44l.94 2.06.94-2.06 2.06-.94-2.06-.94-.94-2.06-.94 2.06-2.06.94zm-11 1L8.5 8.5l.94-2.06 2.06-.94-2.06-.94L8.5 2.5l-.94 2.06-2.06.94zm10 10l.94 2.06.94-2.06 2.06-.94-2.06-.94-.94-2.06-.94 2.06-2.06.94z\"/><path d=\"M17.41 7.96l-1.37-1.37c-.4-.4-.92-.59-1.43-.59-.52 0-1.04.2-1.43.59L10.3 9.45l-7.72 7.72c-.78.78-.78 2.05 0 2.83L4 21.41c.39.39.9.59 1.41.59.51 0 1.02-.2 1.41-.59l7.78-7.78 2.81-2.81c.8-.78.8-2.07 0-2.86zM5.41 20L4 18.59l7.72-7.72 1.47 1.35L5.41 20z\"/>\n",
              "  </svg>\n",
              "      </button>\n",
              "      \n",
              "  <style>\n",
              "    .colab-df-container {\n",
              "      display:flex;\n",
              "      flex-wrap:wrap;\n",
              "      gap: 12px;\n",
              "    }\n",
              "\n",
              "    .colab-df-convert {\n",
              "      background-color: #E8F0FE;\n",
              "      border: none;\n",
              "      border-radius: 50%;\n",
              "      cursor: pointer;\n",
              "      display: none;\n",
              "      fill: #1967D2;\n",
              "      height: 32px;\n",
              "      padding: 0 0 0 0;\n",
              "      width: 32px;\n",
              "    }\n",
              "\n",
              "    .colab-df-convert:hover {\n",
              "      background-color: #E2EBFA;\n",
              "      box-shadow: 0px 1px 2px rgba(60, 64, 67, 0.3), 0px 1px 3px 1px rgba(60, 64, 67, 0.15);\n",
              "      fill: #174EA6;\n",
              "    }\n",
              "\n",
              "    [theme=dark] .colab-df-convert {\n",
              "      background-color: #3B4455;\n",
              "      fill: #D2E3FC;\n",
              "    }\n",
              "\n",
              "    [theme=dark] .colab-df-convert:hover {\n",
              "      background-color: #434B5C;\n",
              "      box-shadow: 0px 1px 3px 1px rgba(0, 0, 0, 0.15);\n",
              "      filter: drop-shadow(0px 1px 2px rgba(0, 0, 0, 0.3));\n",
              "      fill: #FFFFFF;\n",
              "    }\n",
              "  </style>\n",
              "\n",
              "      <script>\n",
              "        const buttonEl =\n",
              "          document.querySelector('#df-009826b3-a8e6-4740-b7be-10c2c90bf845 button.colab-df-convert');\n",
              "        buttonEl.style.display =\n",
              "          google.colab.kernel.accessAllowed ? 'block' : 'none';\n",
              "\n",
              "        async function convertToInteractive(key) {\n",
              "          const element = document.querySelector('#df-009826b3-a8e6-4740-b7be-10c2c90bf845');\n",
              "          const dataTable =\n",
              "            await google.colab.kernel.invokeFunction('convertToInteractive',\n",
              "                                                     [key], {});\n",
              "          if (!dataTable) return;\n",
              "\n",
              "          const docLinkHtml = 'Like what you see? Visit the ' +\n",
              "            '<a target=\"_blank\" href=https://colab.research.google.com/notebooks/data_table.ipynb>data table notebook</a>'\n",
              "            + ' to learn more about interactive tables.';\n",
              "          element.innerHTML = '';\n",
              "          dataTable['output_type'] = 'display_data';\n",
              "          await google.colab.output.renderOutput(dataTable, element);\n",
              "          const docLink = document.createElement('div');\n",
              "          docLink.innerHTML = docLinkHtml;\n",
              "          element.appendChild(docLink);\n",
              "        }\n",
              "      </script>\n",
              "    </div>\n",
              "  </div>\n",
              "  "
            ]
          },
          "metadata": {},
          "execution_count": 25
        }
      ],
      "source": [
        "movies"
      ]
    },
    {
      "cell_type": "markdown",
      "metadata": {
        "id": "s8t4w7uRxKS_"
      },
      "source": [
        "El archivo rating.csv corresponde a una tabla relacional, que contiene ratings de películas asignados por usuarios. Las llaves foráneas son userId y movieId"
      ]
    },
    {
      "cell_type": "code",
      "execution_count": null,
      "metadata": {
        "id": "XhM7t3cwxKTA",
        "colab": {
          "base_uri": "https://localhost:8080/"
        },
        "outputId": "70bfc987-eb3c-47db-c984-1ee49085ceec"
      },
      "outputs": [
        {
          "output_type": "execute_result",
          "data": {
            "text/plain": [
              "          userId  movieId  rating   timestamp\n",
              "0              1      307     3.5  1256677221\n",
              "1              1      481     3.5  1256677456\n",
              "2              1     1091     1.5  1256677471\n",
              "3              1     1257     4.5  1256677460\n",
              "4              1     1449     4.5  1256677264\n",
              "...          ...      ...     ...         ...\n",
              "27753439  283228     8542     4.5  1379882795\n",
              "27753440  283228     8712     4.5  1379882751\n",
              "27753441  283228    34405     4.5  1379882889\n",
              "27753442  283228    44761     4.5  1354159524\n",
              "27753443  283228    54286     4.5  1354159718\n",
              "\n",
              "[27753444 rows x 4 columns]"
            ],
            "text/html": [
              "\n",
              "  <div id=\"df-b0e5807e-4068-441b-aae4-f7215ca0c4e7\">\n",
              "    <div class=\"colab-df-container\">\n",
              "      <div>\n",
              "<style scoped>\n",
              "    .dataframe tbody tr th:only-of-type {\n",
              "        vertical-align: middle;\n",
              "    }\n",
              "\n",
              "    .dataframe tbody tr th {\n",
              "        vertical-align: top;\n",
              "    }\n",
              "\n",
              "    .dataframe thead th {\n",
              "        text-align: right;\n",
              "    }\n",
              "</style>\n",
              "<table border=\"1\" class=\"dataframe\">\n",
              "  <thead>\n",
              "    <tr style=\"text-align: right;\">\n",
              "      <th></th>\n",
              "      <th>userId</th>\n",
              "      <th>movieId</th>\n",
              "      <th>rating</th>\n",
              "      <th>timestamp</th>\n",
              "    </tr>\n",
              "  </thead>\n",
              "  <tbody>\n",
              "    <tr>\n",
              "      <th>0</th>\n",
              "      <td>1</td>\n",
              "      <td>307</td>\n",
              "      <td>3.5</td>\n",
              "      <td>1256677221</td>\n",
              "    </tr>\n",
              "    <tr>\n",
              "      <th>1</th>\n",
              "      <td>1</td>\n",
              "      <td>481</td>\n",
              "      <td>3.5</td>\n",
              "      <td>1256677456</td>\n",
              "    </tr>\n",
              "    <tr>\n",
              "      <th>2</th>\n",
              "      <td>1</td>\n",
              "      <td>1091</td>\n",
              "      <td>1.5</td>\n",
              "      <td>1256677471</td>\n",
              "    </tr>\n",
              "    <tr>\n",
              "      <th>3</th>\n",
              "      <td>1</td>\n",
              "      <td>1257</td>\n",
              "      <td>4.5</td>\n",
              "      <td>1256677460</td>\n",
              "    </tr>\n",
              "    <tr>\n",
              "      <th>4</th>\n",
              "      <td>1</td>\n",
              "      <td>1449</td>\n",
              "      <td>4.5</td>\n",
              "      <td>1256677264</td>\n",
              "    </tr>\n",
              "    <tr>\n",
              "      <th>...</th>\n",
              "      <td>...</td>\n",
              "      <td>...</td>\n",
              "      <td>...</td>\n",
              "      <td>...</td>\n",
              "    </tr>\n",
              "    <tr>\n",
              "      <th>27753439</th>\n",
              "      <td>283228</td>\n",
              "      <td>8542</td>\n",
              "      <td>4.5</td>\n",
              "      <td>1379882795</td>\n",
              "    </tr>\n",
              "    <tr>\n",
              "      <th>27753440</th>\n",
              "      <td>283228</td>\n",
              "      <td>8712</td>\n",
              "      <td>4.5</td>\n",
              "      <td>1379882751</td>\n",
              "    </tr>\n",
              "    <tr>\n",
              "      <th>27753441</th>\n",
              "      <td>283228</td>\n",
              "      <td>34405</td>\n",
              "      <td>4.5</td>\n",
              "      <td>1379882889</td>\n",
              "    </tr>\n",
              "    <tr>\n",
              "      <th>27753442</th>\n",
              "      <td>283228</td>\n",
              "      <td>44761</td>\n",
              "      <td>4.5</td>\n",
              "      <td>1354159524</td>\n",
              "    </tr>\n",
              "    <tr>\n",
              "      <th>27753443</th>\n",
              "      <td>283228</td>\n",
              "      <td>54286</td>\n",
              "      <td>4.5</td>\n",
              "      <td>1354159718</td>\n",
              "    </tr>\n",
              "  </tbody>\n",
              "</table>\n",
              "<p>27753444 rows × 4 columns</p>\n",
              "</div>\n",
              "      <button class=\"colab-df-convert\" onclick=\"convertToInteractive('df-b0e5807e-4068-441b-aae4-f7215ca0c4e7')\"\n",
              "              title=\"Convert this dataframe to an interactive table.\"\n",
              "              style=\"display:none;\">\n",
              "        \n",
              "  <svg xmlns=\"http://www.w3.org/2000/svg\" height=\"24px\"viewBox=\"0 0 24 24\"\n",
              "       width=\"24px\">\n",
              "    <path d=\"M0 0h24v24H0V0z\" fill=\"none\"/>\n",
              "    <path d=\"M18.56 5.44l.94 2.06.94-2.06 2.06-.94-2.06-.94-.94-2.06-.94 2.06-2.06.94zm-11 1L8.5 8.5l.94-2.06 2.06-.94-2.06-.94L8.5 2.5l-.94 2.06-2.06.94zm10 10l.94 2.06.94-2.06 2.06-.94-2.06-.94-.94-2.06-.94 2.06-2.06.94z\"/><path d=\"M17.41 7.96l-1.37-1.37c-.4-.4-.92-.59-1.43-.59-.52 0-1.04.2-1.43.59L10.3 9.45l-7.72 7.72c-.78.78-.78 2.05 0 2.83L4 21.41c.39.39.9.59 1.41.59.51 0 1.02-.2 1.41-.59l7.78-7.78 2.81-2.81c.8-.78.8-2.07 0-2.86zM5.41 20L4 18.59l7.72-7.72 1.47 1.35L5.41 20z\"/>\n",
              "  </svg>\n",
              "      </button>\n",
              "      \n",
              "  <style>\n",
              "    .colab-df-container {\n",
              "      display:flex;\n",
              "      flex-wrap:wrap;\n",
              "      gap: 12px;\n",
              "    }\n",
              "\n",
              "    .colab-df-convert {\n",
              "      background-color: #E8F0FE;\n",
              "      border: none;\n",
              "      border-radius: 50%;\n",
              "      cursor: pointer;\n",
              "      display: none;\n",
              "      fill: #1967D2;\n",
              "      height: 32px;\n",
              "      padding: 0 0 0 0;\n",
              "      width: 32px;\n",
              "    }\n",
              "\n",
              "    .colab-df-convert:hover {\n",
              "      background-color: #E2EBFA;\n",
              "      box-shadow: 0px 1px 2px rgba(60, 64, 67, 0.3), 0px 1px 3px 1px rgba(60, 64, 67, 0.15);\n",
              "      fill: #174EA6;\n",
              "    }\n",
              "\n",
              "    [theme=dark] .colab-df-convert {\n",
              "      background-color: #3B4455;\n",
              "      fill: #D2E3FC;\n",
              "    }\n",
              "\n",
              "    [theme=dark] .colab-df-convert:hover {\n",
              "      background-color: #434B5C;\n",
              "      box-shadow: 0px 1px 3px 1px rgba(0, 0, 0, 0.15);\n",
              "      filter: drop-shadow(0px 1px 2px rgba(0, 0, 0, 0.3));\n",
              "      fill: #FFFFFF;\n",
              "    }\n",
              "  </style>\n",
              "\n",
              "      <script>\n",
              "        const buttonEl =\n",
              "          document.querySelector('#df-b0e5807e-4068-441b-aae4-f7215ca0c4e7 button.colab-df-convert');\n",
              "        buttonEl.style.display =\n",
              "          google.colab.kernel.accessAllowed ? 'block' : 'none';\n",
              "\n",
              "        async function convertToInteractive(key) {\n",
              "          const element = document.querySelector('#df-b0e5807e-4068-441b-aae4-f7215ca0c4e7');\n",
              "          const dataTable =\n",
              "            await google.colab.kernel.invokeFunction('convertToInteractive',\n",
              "                                                     [key], {});\n",
              "          if (!dataTable) return;\n",
              "\n",
              "          const docLinkHtml = 'Like what you see? Visit the ' +\n",
              "            '<a target=\"_blank\" href=https://colab.research.google.com/notebooks/data_table.ipynb>data table notebook</a>'\n",
              "            + ' to learn more about interactive tables.';\n",
              "          element.innerHTML = '';\n",
              "          dataTable['output_type'] = 'display_data';\n",
              "          await google.colab.output.renderOutput(dataTable, element);\n",
              "          const docLink = document.createElement('div');\n",
              "          docLink.innerHTML = docLinkHtml;\n",
              "          element.appendChild(docLink);\n",
              "        }\n",
              "      </script>\n",
              "    </div>\n",
              "  </div>\n",
              "  "
            ]
          },
          "metadata": {},
          "execution_count": 26
        }
      ],
      "source": [
        "ratings"
      ]
    },
    {
      "cell_type": "markdown",
      "metadata": {
        "id": "hcstFf_bxKTB"
      },
      "source": [
        "El archivo tags.csv corresponde a una tabla relacional, que contiene tags de películas asignados por usuarios. Las llaves foráneas son userId y movieId"
      ]
    },
    {
      "cell_type": "code",
      "execution_count": null,
      "metadata": {
        "id": "btbUjuOZxKTB",
        "colab": {
          "base_uri": "https://localhost:8080/"
        },
        "outputId": "4f774cb2-8135-4092-94e7-cad730e4ef3e"
      },
      "outputs": [
        {
          "output_type": "execute_result",
          "data": {
            "text/plain": [
              "         userId  movieId                 tag   timestamp\n",
              "0            14      110                epic  1443148538\n",
              "1            14      110            Medieval  1443148532\n",
              "2            14      260              sci-fi  1442169410\n",
              "3            14      260        space action  1442169421\n",
              "4            14      318        imdb top 250  1442615195\n",
              "...         ...      ...                 ...         ...\n",
              "1108992  283206    73017                 fun  1264379059\n",
              "1108993  283206    73017  homoerotic subtext  1264379058\n",
              "1108994  283206    73017              pacing  1264379058\n",
              "1108995  283206    73017                plot  1264379058\n",
              "1108996  283221    49651  Sylvester Stallone  1168346830\n",
              "\n",
              "[1108997 rows x 4 columns]"
            ],
            "text/html": [
              "\n",
              "  <div id=\"df-1a69cd4a-b77d-4d0e-ae75-b538913d90e0\">\n",
              "    <div class=\"colab-df-container\">\n",
              "      <div>\n",
              "<style scoped>\n",
              "    .dataframe tbody tr th:only-of-type {\n",
              "        vertical-align: middle;\n",
              "    }\n",
              "\n",
              "    .dataframe tbody tr th {\n",
              "        vertical-align: top;\n",
              "    }\n",
              "\n",
              "    .dataframe thead th {\n",
              "        text-align: right;\n",
              "    }\n",
              "</style>\n",
              "<table border=\"1\" class=\"dataframe\">\n",
              "  <thead>\n",
              "    <tr style=\"text-align: right;\">\n",
              "      <th></th>\n",
              "      <th>userId</th>\n",
              "      <th>movieId</th>\n",
              "      <th>tag</th>\n",
              "      <th>timestamp</th>\n",
              "    </tr>\n",
              "  </thead>\n",
              "  <tbody>\n",
              "    <tr>\n",
              "      <th>0</th>\n",
              "      <td>14</td>\n",
              "      <td>110</td>\n",
              "      <td>epic</td>\n",
              "      <td>1443148538</td>\n",
              "    </tr>\n",
              "    <tr>\n",
              "      <th>1</th>\n",
              "      <td>14</td>\n",
              "      <td>110</td>\n",
              "      <td>Medieval</td>\n",
              "      <td>1443148532</td>\n",
              "    </tr>\n",
              "    <tr>\n",
              "      <th>2</th>\n",
              "      <td>14</td>\n",
              "      <td>260</td>\n",
              "      <td>sci-fi</td>\n",
              "      <td>1442169410</td>\n",
              "    </tr>\n",
              "    <tr>\n",
              "      <th>3</th>\n",
              "      <td>14</td>\n",
              "      <td>260</td>\n",
              "      <td>space action</td>\n",
              "      <td>1442169421</td>\n",
              "    </tr>\n",
              "    <tr>\n",
              "      <th>4</th>\n",
              "      <td>14</td>\n",
              "      <td>318</td>\n",
              "      <td>imdb top 250</td>\n",
              "      <td>1442615195</td>\n",
              "    </tr>\n",
              "    <tr>\n",
              "      <th>...</th>\n",
              "      <td>...</td>\n",
              "      <td>...</td>\n",
              "      <td>...</td>\n",
              "      <td>...</td>\n",
              "    </tr>\n",
              "    <tr>\n",
              "      <th>1108992</th>\n",
              "      <td>283206</td>\n",
              "      <td>73017</td>\n",
              "      <td>fun</td>\n",
              "      <td>1264379059</td>\n",
              "    </tr>\n",
              "    <tr>\n",
              "      <th>1108993</th>\n",
              "      <td>283206</td>\n",
              "      <td>73017</td>\n",
              "      <td>homoerotic subtext</td>\n",
              "      <td>1264379058</td>\n",
              "    </tr>\n",
              "    <tr>\n",
              "      <th>1108994</th>\n",
              "      <td>283206</td>\n",
              "      <td>73017</td>\n",
              "      <td>pacing</td>\n",
              "      <td>1264379058</td>\n",
              "    </tr>\n",
              "    <tr>\n",
              "      <th>1108995</th>\n",
              "      <td>283206</td>\n",
              "      <td>73017</td>\n",
              "      <td>plot</td>\n",
              "      <td>1264379058</td>\n",
              "    </tr>\n",
              "    <tr>\n",
              "      <th>1108996</th>\n",
              "      <td>283221</td>\n",
              "      <td>49651</td>\n",
              "      <td>Sylvester Stallone</td>\n",
              "      <td>1168346830</td>\n",
              "    </tr>\n",
              "  </tbody>\n",
              "</table>\n",
              "<p>1108997 rows × 4 columns</p>\n",
              "</div>\n",
              "      <button class=\"colab-df-convert\" onclick=\"convertToInteractive('df-1a69cd4a-b77d-4d0e-ae75-b538913d90e0')\"\n",
              "              title=\"Convert this dataframe to an interactive table.\"\n",
              "              style=\"display:none;\">\n",
              "        \n",
              "  <svg xmlns=\"http://www.w3.org/2000/svg\" height=\"24px\"viewBox=\"0 0 24 24\"\n",
              "       width=\"24px\">\n",
              "    <path d=\"M0 0h24v24H0V0z\" fill=\"none\"/>\n",
              "    <path d=\"M18.56 5.44l.94 2.06.94-2.06 2.06-.94-2.06-.94-.94-2.06-.94 2.06-2.06.94zm-11 1L8.5 8.5l.94-2.06 2.06-.94-2.06-.94L8.5 2.5l-.94 2.06-2.06.94zm10 10l.94 2.06.94-2.06 2.06-.94-2.06-.94-.94-2.06-.94 2.06-2.06.94z\"/><path d=\"M17.41 7.96l-1.37-1.37c-.4-.4-.92-.59-1.43-.59-.52 0-1.04.2-1.43.59L10.3 9.45l-7.72 7.72c-.78.78-.78 2.05 0 2.83L4 21.41c.39.39.9.59 1.41.59.51 0 1.02-.2 1.41-.59l7.78-7.78 2.81-2.81c.8-.78.8-2.07 0-2.86zM5.41 20L4 18.59l7.72-7.72 1.47 1.35L5.41 20z\"/>\n",
              "  </svg>\n",
              "      </button>\n",
              "      \n",
              "  <style>\n",
              "    .colab-df-container {\n",
              "      display:flex;\n",
              "      flex-wrap:wrap;\n",
              "      gap: 12px;\n",
              "    }\n",
              "\n",
              "    .colab-df-convert {\n",
              "      background-color: #E8F0FE;\n",
              "      border: none;\n",
              "      border-radius: 50%;\n",
              "      cursor: pointer;\n",
              "      display: none;\n",
              "      fill: #1967D2;\n",
              "      height: 32px;\n",
              "      padding: 0 0 0 0;\n",
              "      width: 32px;\n",
              "    }\n",
              "\n",
              "    .colab-df-convert:hover {\n",
              "      background-color: #E2EBFA;\n",
              "      box-shadow: 0px 1px 2px rgba(60, 64, 67, 0.3), 0px 1px 3px 1px rgba(60, 64, 67, 0.15);\n",
              "      fill: #174EA6;\n",
              "    }\n",
              "\n",
              "    [theme=dark] .colab-df-convert {\n",
              "      background-color: #3B4455;\n",
              "      fill: #D2E3FC;\n",
              "    }\n",
              "\n",
              "    [theme=dark] .colab-df-convert:hover {\n",
              "      background-color: #434B5C;\n",
              "      box-shadow: 0px 1px 3px 1px rgba(0, 0, 0, 0.15);\n",
              "      filter: drop-shadow(0px 1px 2px rgba(0, 0, 0, 0.3));\n",
              "      fill: #FFFFFF;\n",
              "    }\n",
              "  </style>\n",
              "\n",
              "      <script>\n",
              "        const buttonEl =\n",
              "          document.querySelector('#df-1a69cd4a-b77d-4d0e-ae75-b538913d90e0 button.colab-df-convert');\n",
              "        buttonEl.style.display =\n",
              "          google.colab.kernel.accessAllowed ? 'block' : 'none';\n",
              "\n",
              "        async function convertToInteractive(key) {\n",
              "          const element = document.querySelector('#df-1a69cd4a-b77d-4d0e-ae75-b538913d90e0');\n",
              "          const dataTable =\n",
              "            await google.colab.kernel.invokeFunction('convertToInteractive',\n",
              "                                                     [key], {});\n",
              "          if (!dataTable) return;\n",
              "\n",
              "          const docLinkHtml = 'Like what you see? Visit the ' +\n",
              "            '<a target=\"_blank\" href=https://colab.research.google.com/notebooks/data_table.ipynb>data table notebook</a>'\n",
              "            + ' to learn more about interactive tables.';\n",
              "          element.innerHTML = '';\n",
              "          dataTable['output_type'] = 'display_data';\n",
              "          await google.colab.output.renderOutput(dataTable, element);\n",
              "          const docLink = document.createElement('div');\n",
              "          docLink.innerHTML = docLinkHtml;\n",
              "          element.appendChild(docLink);\n",
              "        }\n",
              "      </script>\n",
              "    </div>\n",
              "  </div>\n",
              "  "
            ]
          },
          "metadata": {},
          "execution_count": 27
        }
      ],
      "source": [
        "tags"
      ]
    },
    {
      "cell_type": "markdown",
      "metadata": {
        "id": "W4WE_xTtxKTC"
      },
      "source": [
        "## Preprocesamiento"
      ]
    },
    {
      "cell_type": "markdown",
      "metadata": {
        "id": "mj-2Y3TkxKTC"
      },
      "source": [
        "### Features"
      ]
    },
    {
      "cell_type": "markdown",
      "metadata": {
        "id": "Q8HlnktjxKTD"
      },
      "source": [
        "La entrada para el modelo de machine learning será la representación en vector de una cadena de tags que represente la percepción de la audiencia en relación a una película. Esto quiere decir que cada película supondrá una única instancia en nuestro dataset final.\n",
        "\n",
        "Es importante notar que la cantidad de tags que tiene una película depende en gran medida de su popularidad, por lo que hay películas con muy pocos tags. Se decidió entonces conservar únicamente aquellas películas con al menos 10 tags. A continuación se combinan los tags que todos los usuarios han dado sobre una misma película en una única cadena de texto.\n"
      ]
    },
    {
      "cell_type": "code",
      "execution_count": null,
      "metadata": {
        "id": "VQRiMKSPxKTD"
      },
      "outputs": [],
      "source": [
        "min_tags = 10\n",
        "data_tags = tags.drop(['userId', 'timestamp'], axis = 1) \\\n",
        "                .groupby(['movieId']) \\\n",
        "                .filter(lambda group:  len(group)>=min_tags) \\\n",
        "                .groupby(['movieId']) \\\n",
        "                .aggregate(lambda group: ' '.join(str(tag) for tag in group)) \\\n",
        "                .rename(columns = {'tag': 'tags'})"
      ]
    },
    {
      "cell_type": "markdown",
      "metadata": {
        "id": "YQVx9bG8xKTE"
      },
      "source": [
        "Como preprocesamiento adicional, se decide:\n",
        "* Pasar todo el texto a lowercase\n",
        "* Eliminar todo signo de puntuación\n",
        "* Eliminar stop words"
      ]
    },
    {
      "cell_type": "code",
      "execution_count": null,
      "metadata": {
        "id": "V0tUPZy9xKTE",
        "colab": {
          "base_uri": "https://localhost:8080/"
        },
        "outputId": "0497d167-464e-4fa7-9076-dd6fa385fa9b"
      },
      "outputs": [
        {
          "output_type": "execute_result",
          "data": {
            "text/plain": [
              "                                                      tags\n",
              "movieId                                                   \n",
              "1        animated buddy movie cartoon cgi comedy comput...\n",
              "2        fantasy adapted frombook animals bad cgi based...\n",
              "3        moldy old ann margaret burgess meredith daryl ...\n",
              "4        characters girl movie characters chick flick b...\n",
              "5        steve martin steve martin pregnancy remake agi...\n",
              "...                                                    ...\n",
              "193149   amaia salamanca bet brotherbrother relation br...\n",
              "193261   1930s actress anna mouglalis fear french horro...\n",
              "193293   chinese martial arts comedic goofy jiang shi j...\n",
              "193731   19th century based book conspiracy femme fatal...\n",
              "193761   concert hostage kidnapping opera singer rebel ...\n",
              "\n",
              "[14656 rows x 1 columns]"
            ],
            "text/html": [
              "\n",
              "  <div id=\"df-0f70efd9-340e-4c51-943a-370b971c5e4e\">\n",
              "    <div class=\"colab-df-container\">\n",
              "      <div>\n",
              "<style scoped>\n",
              "    .dataframe tbody tr th:only-of-type {\n",
              "        vertical-align: middle;\n",
              "    }\n",
              "\n",
              "    .dataframe tbody tr th {\n",
              "        vertical-align: top;\n",
              "    }\n",
              "\n",
              "    .dataframe thead th {\n",
              "        text-align: right;\n",
              "    }\n",
              "</style>\n",
              "<table border=\"1\" class=\"dataframe\">\n",
              "  <thead>\n",
              "    <tr style=\"text-align: right;\">\n",
              "      <th></th>\n",
              "      <th>tags</th>\n",
              "    </tr>\n",
              "    <tr>\n",
              "      <th>movieId</th>\n",
              "      <th></th>\n",
              "    </tr>\n",
              "  </thead>\n",
              "  <tbody>\n",
              "    <tr>\n",
              "      <th>1</th>\n",
              "      <td>animated buddy movie cartoon cgi comedy comput...</td>\n",
              "    </tr>\n",
              "    <tr>\n",
              "      <th>2</th>\n",
              "      <td>fantasy adapted frombook animals bad cgi based...</td>\n",
              "    </tr>\n",
              "    <tr>\n",
              "      <th>3</th>\n",
              "      <td>moldy old ann margaret burgess meredith daryl ...</td>\n",
              "    </tr>\n",
              "    <tr>\n",
              "      <th>4</th>\n",
              "      <td>characters girl movie characters chick flick b...</td>\n",
              "    </tr>\n",
              "    <tr>\n",
              "      <th>5</th>\n",
              "      <td>steve martin steve martin pregnancy remake agi...</td>\n",
              "    </tr>\n",
              "    <tr>\n",
              "      <th>...</th>\n",
              "      <td>...</td>\n",
              "    </tr>\n",
              "    <tr>\n",
              "      <th>193149</th>\n",
              "      <td>amaia salamanca bet brotherbrother relation br...</td>\n",
              "    </tr>\n",
              "    <tr>\n",
              "      <th>193261</th>\n",
              "      <td>1930s actress anna mouglalis fear french horro...</td>\n",
              "    </tr>\n",
              "    <tr>\n",
              "      <th>193293</th>\n",
              "      <td>chinese martial arts comedic goofy jiang shi j...</td>\n",
              "    </tr>\n",
              "    <tr>\n",
              "      <th>193731</th>\n",
              "      <td>19th century based book conspiracy femme fatal...</td>\n",
              "    </tr>\n",
              "    <tr>\n",
              "      <th>193761</th>\n",
              "      <td>concert hostage kidnapping opera singer rebel ...</td>\n",
              "    </tr>\n",
              "  </tbody>\n",
              "</table>\n",
              "<p>14656 rows × 1 columns</p>\n",
              "</div>\n",
              "      <button class=\"colab-df-convert\" onclick=\"convertToInteractive('df-0f70efd9-340e-4c51-943a-370b971c5e4e')\"\n",
              "              title=\"Convert this dataframe to an interactive table.\"\n",
              "              style=\"display:none;\">\n",
              "        \n",
              "  <svg xmlns=\"http://www.w3.org/2000/svg\" height=\"24px\"viewBox=\"0 0 24 24\"\n",
              "       width=\"24px\">\n",
              "    <path d=\"M0 0h24v24H0V0z\" fill=\"none\"/>\n",
              "    <path d=\"M18.56 5.44l.94 2.06.94-2.06 2.06-.94-2.06-.94-.94-2.06-.94 2.06-2.06.94zm-11 1L8.5 8.5l.94-2.06 2.06-.94-2.06-.94L8.5 2.5l-.94 2.06-2.06.94zm10 10l.94 2.06.94-2.06 2.06-.94-2.06-.94-.94-2.06-.94 2.06-2.06.94z\"/><path d=\"M17.41 7.96l-1.37-1.37c-.4-.4-.92-.59-1.43-.59-.52 0-1.04.2-1.43.59L10.3 9.45l-7.72 7.72c-.78.78-.78 2.05 0 2.83L4 21.41c.39.39.9.59 1.41.59.51 0 1.02-.2 1.41-.59l7.78-7.78 2.81-2.81c.8-.78.8-2.07 0-2.86zM5.41 20L4 18.59l7.72-7.72 1.47 1.35L5.41 20z\"/>\n",
              "  </svg>\n",
              "      </button>\n",
              "      \n",
              "  <style>\n",
              "    .colab-df-container {\n",
              "      display:flex;\n",
              "      flex-wrap:wrap;\n",
              "      gap: 12px;\n",
              "    }\n",
              "\n",
              "    .colab-df-convert {\n",
              "      background-color: #E8F0FE;\n",
              "      border: none;\n",
              "      border-radius: 50%;\n",
              "      cursor: pointer;\n",
              "      display: none;\n",
              "      fill: #1967D2;\n",
              "      height: 32px;\n",
              "      padding: 0 0 0 0;\n",
              "      width: 32px;\n",
              "    }\n",
              "\n",
              "    .colab-df-convert:hover {\n",
              "      background-color: #E2EBFA;\n",
              "      box-shadow: 0px 1px 2px rgba(60, 64, 67, 0.3), 0px 1px 3px 1px rgba(60, 64, 67, 0.15);\n",
              "      fill: #174EA6;\n",
              "    }\n",
              "\n",
              "    [theme=dark] .colab-df-convert {\n",
              "      background-color: #3B4455;\n",
              "      fill: #D2E3FC;\n",
              "    }\n",
              "\n",
              "    [theme=dark] .colab-df-convert:hover {\n",
              "      background-color: #434B5C;\n",
              "      box-shadow: 0px 1px 3px 1px rgba(0, 0, 0, 0.15);\n",
              "      filter: drop-shadow(0px 1px 2px rgba(0, 0, 0, 0.3));\n",
              "      fill: #FFFFFF;\n",
              "    }\n",
              "  </style>\n",
              "\n",
              "      <script>\n",
              "        const buttonEl =\n",
              "          document.querySelector('#df-0f70efd9-340e-4c51-943a-370b971c5e4e button.colab-df-convert');\n",
              "        buttonEl.style.display =\n",
              "          google.colab.kernel.accessAllowed ? 'block' : 'none';\n",
              "\n",
              "        async function convertToInteractive(key) {\n",
              "          const element = document.querySelector('#df-0f70efd9-340e-4c51-943a-370b971c5e4e');\n",
              "          const dataTable =\n",
              "            await google.colab.kernel.invokeFunction('convertToInteractive',\n",
              "                                                     [key], {});\n",
              "          if (!dataTable) return;\n",
              "\n",
              "          const docLinkHtml = 'Like what you see? Visit the ' +\n",
              "            '<a target=\"_blank\" href=https://colab.research.google.com/notebooks/data_table.ipynb>data table notebook</a>'\n",
              "            + ' to learn more about interactive tables.';\n",
              "          element.innerHTML = '';\n",
              "          dataTable['output_type'] = 'display_data';\n",
              "          await google.colab.output.renderOutput(dataTable, element);\n",
              "          const docLink = document.createElement('div');\n",
              "          docLink.innerHTML = docLinkHtml;\n",
              "          element.appendChild(docLink);\n",
              "        }\n",
              "      </script>\n",
              "    </div>\n",
              "  </div>\n",
              "  "
            ]
          },
          "metadata": {},
          "execution_count": 29
        }
      ],
      "source": [
        "def preprocess_text(text):\n",
        "    text = text.lower()\n",
        "    # Eliminar signos de puntuacion\n",
        "    text = text.translate(str.maketrans('', '', string.punctuation))\n",
        "    tags = []\n",
        "    for tag in text.split(' '):\n",
        "        # Omitir stop words\n",
        "        if len(tag)>2 and tag not in stopwords.words('english'):\n",
        "            tags.append(tag)\n",
        "    return ' '.join(tags)\n",
        "\n",
        "data_tags['tags'] = data_tags['tags'].apply(preprocess_text)\n",
        "data_tags"
      ]
    },
    {
      "cell_type": "markdown",
      "metadata": {
        "id": "zDgSw84XxKTE"
      },
      "source": [
        "### Word embedding"
      ]
    },
    {
      "cell_type": "markdown",
      "metadata": {
        "id": "yXEO_oQ2xKTF"
      },
      "source": [
        "Los modelos de machine learning necesitan trabajar sobre entradas numéricas, por esta razón es necesario transformar la cadena de tags en una representación de vector numérico. \n",
        "\n",
        "Existen varias formas de hacer esto usando modelos de NLP preentrenado. En este caso de usará un modelo de nnlm (Neural Network Language Model) que fue preentrenado sobre el English Google News corpus. El modelo está disponible en tensorflowhub.\n"
      ]
    },
    {
      "cell_type": "code",
      "source": [
        "dim_embedding = 50\n",
        "def create_nnlm_model():\n",
        "  hub_url = \"https://tfhub.dev/google/nnlm-en-dim50/2\"\n",
        "  embed_layer = hub.KerasLayer(hub_url, input_shape=[], dtype=tf.string, trainable=False)\n",
        "  model_nnlm = keras.Sequential()\n",
        "  model_nnlm.add(embed_layer)\n",
        "  return model_nnlm"
      ],
      "metadata": {
        "id": "4NKSi7ulJiEO"
      },
      "execution_count": null,
      "outputs": []
    },
    {
      "cell_type": "code",
      "execution_count": null,
      "metadata": {
        "id": "_OT3QH_HxKTF",
        "colab": {
          "base_uri": "https://localhost:8080/"
        },
        "outputId": "fb125dd8-45cd-4af0-ecd2-7560c8d8c5fc"
      },
      "outputs": [
        {
          "output_type": "stream",
          "name": "stdout",
          "text": [
            "Model: \"sequential_2\"\n",
            "_________________________________________________________________\n",
            " Layer (type)                Output Shape              Param #   \n",
            "=================================================================\n",
            " keras_layer_2 (KerasLayer)  (None, 50)                48190600  \n",
            "                                                                 \n",
            "=================================================================\n",
            "Total params: 48,190,600\n",
            "Trainable params: 0\n",
            "Non-trainable params: 48,190,600\n",
            "_________________________________________________________________\n"
          ]
        }
      ],
      "source": [
        "model_nnlm = create_nnlm_model()\n",
        "model_nnlm.summary()"
      ]
    },
    {
      "cell_type": "code",
      "source": [
        "data_embeddings = model_nnlm.predict(data_tags, verbose=False)\n",
        "data_embeddings.shape"
      ],
      "metadata": {
        "colab": {
          "base_uri": "https://localhost:8080/"
        },
        "id": "7s08M11O5faM",
        "outputId": "40687731-e5e2-4b94-fa2e-41f37821a3a3"
      },
      "execution_count": null,
      "outputs": [
        {
          "output_type": "execute_result",
          "data": {
            "text/plain": [
              "(14656, 50)"
            ]
          },
          "metadata": {},
          "execution_count": 32
        }
      ]
    },
    {
      "cell_type": "markdown",
      "metadata": {
        "id": "YaYhg-OExKTG"
      },
      "source": [
        "Se formatean los embeddings en un dataframe con índice adecuado, y nombres de columnas"
      ]
    },
    {
      "cell_type": "code",
      "execution_count": null,
      "metadata": {
        "id": "qPrSqpoGxKTG",
        "colab": {
          "base_uri": "https://localhost:8080/"
        },
        "outputId": "6519db94-8902-4be0-ad16-27b6eb973aa8"
      },
      "outputs": [
        {
          "output_type": "execute_result",
          "data": {
            "text/plain": [
              "         Feature 0  Feature 1  Feature 2  Feature 3  Feature 4  Feature 5  \\\n",
              "movieId                                                                     \n",
              "1         2.013787  -2.873946  -2.503675  -0.382776   0.398324   0.087414   \n",
              "2         1.688889  -0.614420  -1.419735  -1.228704  -0.414678  -0.294612   \n",
              "3         1.189798  -0.597724  -0.556180  -0.473029   0.371192  -0.208536   \n",
              "4         0.053938  -0.366784  -0.412073  -0.205644  -0.156985   0.110605   \n",
              "5         0.366346  -0.822644  -0.504521  -0.632580  -0.124251  -0.630122   \n",
              "...            ...        ...        ...        ...        ...        ...   \n",
              "193149    0.556910  -0.422299  -0.345232  -0.421511  -0.071314  -0.040002   \n",
              "193261    0.250624  -0.489365  -0.386644  -0.329540  -0.032275  -0.001654   \n",
              "193293    0.412071  -0.398303  -0.148556  -0.114933   0.045140   0.091507   \n",
              "193731    0.272312  -0.184673  -0.156042  -0.348946  -0.156872  -0.059394   \n",
              "193761   -0.113452  -0.264372  -0.402719  -0.337059  -0.063055   0.180231   \n",
              "\n",
              "         Feature 6  Feature 7  Feature 8  Feature 9  ...  Feature 40  \\\n",
              "movieId                                              ...               \n",
              "1         0.024961  -3.769047  -3.772265  -0.053829  ...   -0.066591   \n",
              "2        -0.081384  -0.472801  -2.389474  -0.305474  ...    0.112020   \n",
              "3         0.041325   0.077874  -0.220890  -0.025645  ...    0.300512   \n",
              "4        -0.162939  -0.870266  -0.305826  -0.394059  ...   -0.096562   \n",
              "5         0.024234  -0.520865  -0.546344   0.033577  ...    0.541956   \n",
              "...            ...        ...        ...        ...  ...         ...   \n",
              "193149   -0.273698  -0.634549  -0.511282  -0.236152  ...    0.697222   \n",
              "193261   -0.265961  -0.589779  -0.377170  -0.169100  ...    0.192871   \n",
              "193293   -0.336450  -0.250882  -0.516550   0.008300  ...    0.380562   \n",
              "193731   -0.425303  -0.270538  -0.283538  -0.025130  ...   -0.022928   \n",
              "193761   -0.200969  -0.381171  -0.155708  -0.530165  ...    0.040065   \n",
              "\n",
              "         Feature 41  Feature 42  Feature 43  Feature 44  Feature 45  \\\n",
              "movieId                                                               \n",
              "1          0.419805    0.153001   -0.195479   -2.919035   -0.034676   \n",
              "2         -0.840519    0.495918    0.124137   -0.774624    1.069695   \n",
              "3         -0.125711   -0.145979   -0.400362   -0.500727    0.380398   \n",
              "4         -0.044298   -0.231862   -0.354104   -0.322362    0.056779   \n",
              "5         -0.326051   -0.112760   -0.403732   -0.401808    0.230172   \n",
              "...             ...         ...         ...         ...         ...   \n",
              "193149     0.232248   -0.155166   -0.065983    0.039399   -0.133581   \n",
              "193261    -0.050324    0.255248   -0.467842    0.073673    0.049168   \n",
              "193293    -0.132912   -0.279821   -0.508315   -0.251528   -0.102242   \n",
              "193731     0.265095   -0.002835    0.155435   -0.039757   -0.013435   \n",
              "193761    -0.001531   -0.245354   -0.324637   -0.045454    0.132934   \n",
              "\n",
              "         Feature 46  Feature 47  Feature 48  Feature 49  \n",
              "movieId                                                  \n",
              "1         -0.786196   -0.924649    4.244995    3.084903  \n",
              "2         -0.746827   -0.211570    2.374461    1.131040  \n",
              "3         -0.518261   -0.217905    0.593139    0.491987  \n",
              "4         -0.174689   -0.322855    0.735939    0.050495  \n",
              "5         -0.383597   -0.074782    1.114532    0.304644  \n",
              "...             ...         ...         ...         ...  \n",
              "193149    -0.126984    0.134557    0.626172    0.032054  \n",
              "193261     0.088859    0.085931    0.603636    0.151208  \n",
              "193293    -0.064701    0.394265    0.472742    0.009547  \n",
              "193731    -0.172700    0.367890    0.527375    0.071540  \n",
              "193761    -0.007777    0.054859    0.361772    0.000917  \n",
              "\n",
              "[14656 rows x 50 columns]"
            ],
            "text/html": [
              "\n",
              "  <div id=\"df-27f92158-7941-44a9-892e-c87eba37052f\">\n",
              "    <div class=\"colab-df-container\">\n",
              "      <div>\n",
              "<style scoped>\n",
              "    .dataframe tbody tr th:only-of-type {\n",
              "        vertical-align: middle;\n",
              "    }\n",
              "\n",
              "    .dataframe tbody tr th {\n",
              "        vertical-align: top;\n",
              "    }\n",
              "\n",
              "    .dataframe thead th {\n",
              "        text-align: right;\n",
              "    }\n",
              "</style>\n",
              "<table border=\"1\" class=\"dataframe\">\n",
              "  <thead>\n",
              "    <tr style=\"text-align: right;\">\n",
              "      <th></th>\n",
              "      <th>Feature 0</th>\n",
              "      <th>Feature 1</th>\n",
              "      <th>Feature 2</th>\n",
              "      <th>Feature 3</th>\n",
              "      <th>Feature 4</th>\n",
              "      <th>Feature 5</th>\n",
              "      <th>Feature 6</th>\n",
              "      <th>Feature 7</th>\n",
              "      <th>Feature 8</th>\n",
              "      <th>Feature 9</th>\n",
              "      <th>...</th>\n",
              "      <th>Feature 40</th>\n",
              "      <th>Feature 41</th>\n",
              "      <th>Feature 42</th>\n",
              "      <th>Feature 43</th>\n",
              "      <th>Feature 44</th>\n",
              "      <th>Feature 45</th>\n",
              "      <th>Feature 46</th>\n",
              "      <th>Feature 47</th>\n",
              "      <th>Feature 48</th>\n",
              "      <th>Feature 49</th>\n",
              "    </tr>\n",
              "    <tr>\n",
              "      <th>movieId</th>\n",
              "      <th></th>\n",
              "      <th></th>\n",
              "      <th></th>\n",
              "      <th></th>\n",
              "      <th></th>\n",
              "      <th></th>\n",
              "      <th></th>\n",
              "      <th></th>\n",
              "      <th></th>\n",
              "      <th></th>\n",
              "      <th></th>\n",
              "      <th></th>\n",
              "      <th></th>\n",
              "      <th></th>\n",
              "      <th></th>\n",
              "      <th></th>\n",
              "      <th></th>\n",
              "      <th></th>\n",
              "      <th></th>\n",
              "      <th></th>\n",
              "      <th></th>\n",
              "    </tr>\n",
              "  </thead>\n",
              "  <tbody>\n",
              "    <tr>\n",
              "      <th>1</th>\n",
              "      <td>2.013787</td>\n",
              "      <td>-2.873946</td>\n",
              "      <td>-2.503675</td>\n",
              "      <td>-0.382776</td>\n",
              "      <td>0.398324</td>\n",
              "      <td>0.087414</td>\n",
              "      <td>0.024961</td>\n",
              "      <td>-3.769047</td>\n",
              "      <td>-3.772265</td>\n",
              "      <td>-0.053829</td>\n",
              "      <td>...</td>\n",
              "      <td>-0.066591</td>\n",
              "      <td>0.419805</td>\n",
              "      <td>0.153001</td>\n",
              "      <td>-0.195479</td>\n",
              "      <td>-2.919035</td>\n",
              "      <td>-0.034676</td>\n",
              "      <td>-0.786196</td>\n",
              "      <td>-0.924649</td>\n",
              "      <td>4.244995</td>\n",
              "      <td>3.084903</td>\n",
              "    </tr>\n",
              "    <tr>\n",
              "      <th>2</th>\n",
              "      <td>1.688889</td>\n",
              "      <td>-0.614420</td>\n",
              "      <td>-1.419735</td>\n",
              "      <td>-1.228704</td>\n",
              "      <td>-0.414678</td>\n",
              "      <td>-0.294612</td>\n",
              "      <td>-0.081384</td>\n",
              "      <td>-0.472801</td>\n",
              "      <td>-2.389474</td>\n",
              "      <td>-0.305474</td>\n",
              "      <td>...</td>\n",
              "      <td>0.112020</td>\n",
              "      <td>-0.840519</td>\n",
              "      <td>0.495918</td>\n",
              "      <td>0.124137</td>\n",
              "      <td>-0.774624</td>\n",
              "      <td>1.069695</td>\n",
              "      <td>-0.746827</td>\n",
              "      <td>-0.211570</td>\n",
              "      <td>2.374461</td>\n",
              "      <td>1.131040</td>\n",
              "    </tr>\n",
              "    <tr>\n",
              "      <th>3</th>\n",
              "      <td>1.189798</td>\n",
              "      <td>-0.597724</td>\n",
              "      <td>-0.556180</td>\n",
              "      <td>-0.473029</td>\n",
              "      <td>0.371192</td>\n",
              "      <td>-0.208536</td>\n",
              "      <td>0.041325</td>\n",
              "      <td>0.077874</td>\n",
              "      <td>-0.220890</td>\n",
              "      <td>-0.025645</td>\n",
              "      <td>...</td>\n",
              "      <td>0.300512</td>\n",
              "      <td>-0.125711</td>\n",
              "      <td>-0.145979</td>\n",
              "      <td>-0.400362</td>\n",
              "      <td>-0.500727</td>\n",
              "      <td>0.380398</td>\n",
              "      <td>-0.518261</td>\n",
              "      <td>-0.217905</td>\n",
              "      <td>0.593139</td>\n",
              "      <td>0.491987</td>\n",
              "    </tr>\n",
              "    <tr>\n",
              "      <th>4</th>\n",
              "      <td>0.053938</td>\n",
              "      <td>-0.366784</td>\n",
              "      <td>-0.412073</td>\n",
              "      <td>-0.205644</td>\n",
              "      <td>-0.156985</td>\n",
              "      <td>0.110605</td>\n",
              "      <td>-0.162939</td>\n",
              "      <td>-0.870266</td>\n",
              "      <td>-0.305826</td>\n",
              "      <td>-0.394059</td>\n",
              "      <td>...</td>\n",
              "      <td>-0.096562</td>\n",
              "      <td>-0.044298</td>\n",
              "      <td>-0.231862</td>\n",
              "      <td>-0.354104</td>\n",
              "      <td>-0.322362</td>\n",
              "      <td>0.056779</td>\n",
              "      <td>-0.174689</td>\n",
              "      <td>-0.322855</td>\n",
              "      <td>0.735939</td>\n",
              "      <td>0.050495</td>\n",
              "    </tr>\n",
              "    <tr>\n",
              "      <th>5</th>\n",
              "      <td>0.366346</td>\n",
              "      <td>-0.822644</td>\n",
              "      <td>-0.504521</td>\n",
              "      <td>-0.632580</td>\n",
              "      <td>-0.124251</td>\n",
              "      <td>-0.630122</td>\n",
              "      <td>0.024234</td>\n",
              "      <td>-0.520865</td>\n",
              "      <td>-0.546344</td>\n",
              "      <td>0.033577</td>\n",
              "      <td>...</td>\n",
              "      <td>0.541956</td>\n",
              "      <td>-0.326051</td>\n",
              "      <td>-0.112760</td>\n",
              "      <td>-0.403732</td>\n",
              "      <td>-0.401808</td>\n",
              "      <td>0.230172</td>\n",
              "      <td>-0.383597</td>\n",
              "      <td>-0.074782</td>\n",
              "      <td>1.114532</td>\n",
              "      <td>0.304644</td>\n",
              "    </tr>\n",
              "    <tr>\n",
              "      <th>...</th>\n",
              "      <td>...</td>\n",
              "      <td>...</td>\n",
              "      <td>...</td>\n",
              "      <td>...</td>\n",
              "      <td>...</td>\n",
              "      <td>...</td>\n",
              "      <td>...</td>\n",
              "      <td>...</td>\n",
              "      <td>...</td>\n",
              "      <td>...</td>\n",
              "      <td>...</td>\n",
              "      <td>...</td>\n",
              "      <td>...</td>\n",
              "      <td>...</td>\n",
              "      <td>...</td>\n",
              "      <td>...</td>\n",
              "      <td>...</td>\n",
              "      <td>...</td>\n",
              "      <td>...</td>\n",
              "      <td>...</td>\n",
              "      <td>...</td>\n",
              "    </tr>\n",
              "    <tr>\n",
              "      <th>193149</th>\n",
              "      <td>0.556910</td>\n",
              "      <td>-0.422299</td>\n",
              "      <td>-0.345232</td>\n",
              "      <td>-0.421511</td>\n",
              "      <td>-0.071314</td>\n",
              "      <td>-0.040002</td>\n",
              "      <td>-0.273698</td>\n",
              "      <td>-0.634549</td>\n",
              "      <td>-0.511282</td>\n",
              "      <td>-0.236152</td>\n",
              "      <td>...</td>\n",
              "      <td>0.697222</td>\n",
              "      <td>0.232248</td>\n",
              "      <td>-0.155166</td>\n",
              "      <td>-0.065983</td>\n",
              "      <td>0.039399</td>\n",
              "      <td>-0.133581</td>\n",
              "      <td>-0.126984</td>\n",
              "      <td>0.134557</td>\n",
              "      <td>0.626172</td>\n",
              "      <td>0.032054</td>\n",
              "    </tr>\n",
              "    <tr>\n",
              "      <th>193261</th>\n",
              "      <td>0.250624</td>\n",
              "      <td>-0.489365</td>\n",
              "      <td>-0.386644</td>\n",
              "      <td>-0.329540</td>\n",
              "      <td>-0.032275</td>\n",
              "      <td>-0.001654</td>\n",
              "      <td>-0.265961</td>\n",
              "      <td>-0.589779</td>\n",
              "      <td>-0.377170</td>\n",
              "      <td>-0.169100</td>\n",
              "      <td>...</td>\n",
              "      <td>0.192871</td>\n",
              "      <td>-0.050324</td>\n",
              "      <td>0.255248</td>\n",
              "      <td>-0.467842</td>\n",
              "      <td>0.073673</td>\n",
              "      <td>0.049168</td>\n",
              "      <td>0.088859</td>\n",
              "      <td>0.085931</td>\n",
              "      <td>0.603636</td>\n",
              "      <td>0.151208</td>\n",
              "    </tr>\n",
              "    <tr>\n",
              "      <th>193293</th>\n",
              "      <td>0.412071</td>\n",
              "      <td>-0.398303</td>\n",
              "      <td>-0.148556</td>\n",
              "      <td>-0.114933</td>\n",
              "      <td>0.045140</td>\n",
              "      <td>0.091507</td>\n",
              "      <td>-0.336450</td>\n",
              "      <td>-0.250882</td>\n",
              "      <td>-0.516550</td>\n",
              "      <td>0.008300</td>\n",
              "      <td>...</td>\n",
              "      <td>0.380562</td>\n",
              "      <td>-0.132912</td>\n",
              "      <td>-0.279821</td>\n",
              "      <td>-0.508315</td>\n",
              "      <td>-0.251528</td>\n",
              "      <td>-0.102242</td>\n",
              "      <td>-0.064701</td>\n",
              "      <td>0.394265</td>\n",
              "      <td>0.472742</td>\n",
              "      <td>0.009547</td>\n",
              "    </tr>\n",
              "    <tr>\n",
              "      <th>193731</th>\n",
              "      <td>0.272312</td>\n",
              "      <td>-0.184673</td>\n",
              "      <td>-0.156042</td>\n",
              "      <td>-0.348946</td>\n",
              "      <td>-0.156872</td>\n",
              "      <td>-0.059394</td>\n",
              "      <td>-0.425303</td>\n",
              "      <td>-0.270538</td>\n",
              "      <td>-0.283538</td>\n",
              "      <td>-0.025130</td>\n",
              "      <td>...</td>\n",
              "      <td>-0.022928</td>\n",
              "      <td>0.265095</td>\n",
              "      <td>-0.002835</td>\n",
              "      <td>0.155435</td>\n",
              "      <td>-0.039757</td>\n",
              "      <td>-0.013435</td>\n",
              "      <td>-0.172700</td>\n",
              "      <td>0.367890</td>\n",
              "      <td>0.527375</td>\n",
              "      <td>0.071540</td>\n",
              "    </tr>\n",
              "    <tr>\n",
              "      <th>193761</th>\n",
              "      <td>-0.113452</td>\n",
              "      <td>-0.264372</td>\n",
              "      <td>-0.402719</td>\n",
              "      <td>-0.337059</td>\n",
              "      <td>-0.063055</td>\n",
              "      <td>0.180231</td>\n",
              "      <td>-0.200969</td>\n",
              "      <td>-0.381171</td>\n",
              "      <td>-0.155708</td>\n",
              "      <td>-0.530165</td>\n",
              "      <td>...</td>\n",
              "      <td>0.040065</td>\n",
              "      <td>-0.001531</td>\n",
              "      <td>-0.245354</td>\n",
              "      <td>-0.324637</td>\n",
              "      <td>-0.045454</td>\n",
              "      <td>0.132934</td>\n",
              "      <td>-0.007777</td>\n",
              "      <td>0.054859</td>\n",
              "      <td>0.361772</td>\n",
              "      <td>0.000917</td>\n",
              "    </tr>\n",
              "  </tbody>\n",
              "</table>\n",
              "<p>14656 rows × 50 columns</p>\n",
              "</div>\n",
              "      <button class=\"colab-df-convert\" onclick=\"convertToInteractive('df-27f92158-7941-44a9-892e-c87eba37052f')\"\n",
              "              title=\"Convert this dataframe to an interactive table.\"\n",
              "              style=\"display:none;\">\n",
              "        \n",
              "  <svg xmlns=\"http://www.w3.org/2000/svg\" height=\"24px\"viewBox=\"0 0 24 24\"\n",
              "       width=\"24px\">\n",
              "    <path d=\"M0 0h24v24H0V0z\" fill=\"none\"/>\n",
              "    <path d=\"M18.56 5.44l.94 2.06.94-2.06 2.06-.94-2.06-.94-.94-2.06-.94 2.06-2.06.94zm-11 1L8.5 8.5l.94-2.06 2.06-.94-2.06-.94L8.5 2.5l-.94 2.06-2.06.94zm10 10l.94 2.06.94-2.06 2.06-.94-2.06-.94-.94-2.06-.94 2.06-2.06.94z\"/><path d=\"M17.41 7.96l-1.37-1.37c-.4-.4-.92-.59-1.43-.59-.52 0-1.04.2-1.43.59L10.3 9.45l-7.72 7.72c-.78.78-.78 2.05 0 2.83L4 21.41c.39.39.9.59 1.41.59.51 0 1.02-.2 1.41-.59l7.78-7.78 2.81-2.81c.8-.78.8-2.07 0-2.86zM5.41 20L4 18.59l7.72-7.72 1.47 1.35L5.41 20z\"/>\n",
              "  </svg>\n",
              "      </button>\n",
              "      \n",
              "  <style>\n",
              "    .colab-df-container {\n",
              "      display:flex;\n",
              "      flex-wrap:wrap;\n",
              "      gap: 12px;\n",
              "    }\n",
              "\n",
              "    .colab-df-convert {\n",
              "      background-color: #E8F0FE;\n",
              "      border: none;\n",
              "      border-radius: 50%;\n",
              "      cursor: pointer;\n",
              "      display: none;\n",
              "      fill: #1967D2;\n",
              "      height: 32px;\n",
              "      padding: 0 0 0 0;\n",
              "      width: 32px;\n",
              "    }\n",
              "\n",
              "    .colab-df-convert:hover {\n",
              "      background-color: #E2EBFA;\n",
              "      box-shadow: 0px 1px 2px rgba(60, 64, 67, 0.3), 0px 1px 3px 1px rgba(60, 64, 67, 0.15);\n",
              "      fill: #174EA6;\n",
              "    }\n",
              "\n",
              "    [theme=dark] .colab-df-convert {\n",
              "      background-color: #3B4455;\n",
              "      fill: #D2E3FC;\n",
              "    }\n",
              "\n",
              "    [theme=dark] .colab-df-convert:hover {\n",
              "      background-color: #434B5C;\n",
              "      box-shadow: 0px 1px 3px 1px rgba(0, 0, 0, 0.15);\n",
              "      filter: drop-shadow(0px 1px 2px rgba(0, 0, 0, 0.3));\n",
              "      fill: #FFFFFF;\n",
              "    }\n",
              "  </style>\n",
              "\n",
              "      <script>\n",
              "        const buttonEl =\n",
              "          document.querySelector('#df-27f92158-7941-44a9-892e-c87eba37052f button.colab-df-convert');\n",
              "        buttonEl.style.display =\n",
              "          google.colab.kernel.accessAllowed ? 'block' : 'none';\n",
              "\n",
              "        async function convertToInteractive(key) {\n",
              "          const element = document.querySelector('#df-27f92158-7941-44a9-892e-c87eba37052f');\n",
              "          const dataTable =\n",
              "            await google.colab.kernel.invokeFunction('convertToInteractive',\n",
              "                                                     [key], {});\n",
              "          if (!dataTable) return;\n",
              "\n",
              "          const docLinkHtml = 'Like what you see? Visit the ' +\n",
              "            '<a target=\"_blank\" href=https://colab.research.google.com/notebooks/data_table.ipynb>data table notebook</a>'\n",
              "            + ' to learn more about interactive tables.';\n",
              "          element.innerHTML = '';\n",
              "          dataTable['output_type'] = 'display_data';\n",
              "          await google.colab.output.renderOutput(dataTable, element);\n",
              "          const docLink = document.createElement('div');\n",
              "          docLink.innerHTML = docLinkHtml;\n",
              "          element.appendChild(docLink);\n",
              "        }\n",
              "      </script>\n",
              "    </div>\n",
              "  </div>\n",
              "  "
            ]
          },
          "metadata": {},
          "execution_count": 33
        }
      ],
      "source": [
        "data_embeddings = pd.DataFrame(data_embeddings)\n",
        "data_embeddings.columns = [f'Feature {i}' for i in range(dim_embedding)]\n",
        "data_embeddings.index = data_tags.index\n",
        "data_embeddings"
      ]
    },
    {
      "cell_type": "markdown",
      "metadata": {
        "id": "OitwyG4Ht95N"
      },
      "source": [
        "Se genera la matriz de covarianza de las features obtenidas"
      ]
    },
    {
      "cell_type": "code",
      "execution_count": null,
      "metadata": {
        "id": "-iBBrBglt9ND",
        "colab": {
          "base_uri": "https://localhost:8080/"
        },
        "outputId": "c54d58fc-d276-4cbd-d0ea-8e7f9d8abfe9"
      },
      "outputs": [
        {
          "output_type": "execute_result",
          "data": {
            "text/plain": [
              "<matplotlib.axes._subplots.AxesSubplot at 0x7f12f66b7460>"
            ]
          },
          "metadata": {},
          "execution_count": 34
        },
        {
          "output_type": "display_data",
          "data": {
            "text/plain": [
              "<Figure size 768x640 with 2 Axes>"
            ],
            "image/png": "[encoded data removed]"
          },
          "metadata": {
            "needs_background": "light"
          }
        }
      ],
      "source": [
        "fig, ax = plt.subplots(figsize=(12,10), dpi=64) \n",
        "sns.heatmap(data_embeddings.corr(), cmap=\"YlGnBu\", annot=False, ax=ax)"
      ]
    },
    {
      "cell_type": "markdown",
      "metadata": {
        "id": "E7_UGdIRxKTG"
      },
      "source": [
        "### Output"
      ]
    },
    {
      "cell_type": "markdown",
      "metadata": {
        "id": "M4Cf6PaBxKTH"
      },
      "source": [
        "La salida del modelo será la predicción del rating medio. Para obtener el rating medio de una película se agrupan todos los ratings dados a una misma película y se obtiene su promedio."
      ]
    },
    {
      "cell_type": "code",
      "execution_count": null,
      "metadata": {
        "id": "5Bbxkd4KxKTH",
        "colab": {
          "base_uri": "https://localhost:8080/"
        },
        "outputId": "2641bdb2-75b9-43a3-8291-31839ca033d4"
      },
      "outputs": [
        {
          "output_type": "execute_result",
          "data": {
            "text/plain": [
              "         mean rating\n",
              "movieId             \n",
              "1           3.886649\n",
              "2           3.246583\n",
              "3           3.173981\n",
              "4           2.874540\n",
              "5           3.077291\n",
              "...              ...\n",
              "193876      3.000000\n",
              "193878      2.000000\n",
              "193880      2.000000\n",
              "193882      2.000000\n",
              "193886      3.250000\n",
              "\n",
              "[53889 rows x 1 columns]"
            ],
            "text/html": [
              "\n",
              "  <div id=\"df-c8154ab2-a205-4232-a33f-4621f2d6b5ed\">\n",
              "    <div class=\"colab-df-container\">\n",
              "      <div>\n",
              "<style scoped>\n",
              "    .dataframe tbody tr th:only-of-type {\n",
              "        vertical-align: middle;\n",
              "    }\n",
              "\n",
              "    .dataframe tbody tr th {\n",
              "        vertical-align: top;\n",
              "    }\n",
              "\n",
              "    .dataframe thead th {\n",
              "        text-align: right;\n",
              "    }\n",
              "</style>\n",
              "<table border=\"1\" class=\"dataframe\">\n",
              "  <thead>\n",
              "    <tr style=\"text-align: right;\">\n",
              "      <th></th>\n",
              "      <th>mean rating</th>\n",
              "    </tr>\n",
              "    <tr>\n",
              "      <th>movieId</th>\n",
              "      <th></th>\n",
              "    </tr>\n",
              "  </thead>\n",
              "  <tbody>\n",
              "    <tr>\n",
              "      <th>1</th>\n",
              "      <td>3.886649</td>\n",
              "    </tr>\n",
              "    <tr>\n",
              "      <th>2</th>\n",
              "      <td>3.246583</td>\n",
              "    </tr>\n",
              "    <tr>\n",
              "      <th>3</th>\n",
              "      <td>3.173981</td>\n",
              "    </tr>\n",
              "    <tr>\n",
              "      <th>4</th>\n",
              "      <td>2.874540</td>\n",
              "    </tr>\n",
              "    <tr>\n",
              "      <th>5</th>\n",
              "      <td>3.077291</td>\n",
              "    </tr>\n",
              "    <tr>\n",
              "      <th>...</th>\n",
              "      <td>...</td>\n",
              "    </tr>\n",
              "    <tr>\n",
              "      <th>193876</th>\n",
              "      <td>3.000000</td>\n",
              "    </tr>\n",
              "    <tr>\n",
              "      <th>193878</th>\n",
              "      <td>2.000000</td>\n",
              "    </tr>\n",
              "    <tr>\n",
              "      <th>193880</th>\n",
              "      <td>2.000000</td>\n",
              "    </tr>\n",
              "    <tr>\n",
              "      <th>193882</th>\n",
              "      <td>2.000000</td>\n",
              "    </tr>\n",
              "    <tr>\n",
              "      <th>193886</th>\n",
              "      <td>3.250000</td>\n",
              "    </tr>\n",
              "  </tbody>\n",
              "</table>\n",
              "<p>53889 rows × 1 columns</p>\n",
              "</div>\n",
              "      <button class=\"colab-df-convert\" onclick=\"convertToInteractive('df-c8154ab2-a205-4232-a33f-4621f2d6b5ed')\"\n",
              "              title=\"Convert this dataframe to an interactive table.\"\n",
              "              style=\"display:none;\">\n",
              "        \n",
              "  <svg xmlns=\"http://www.w3.org/2000/svg\" height=\"24px\"viewBox=\"0 0 24 24\"\n",
              "       width=\"24px\">\n",
              "    <path d=\"M0 0h24v24H0V0z\" fill=\"none\"/>\n",
              "    <path d=\"M18.56 5.44l.94 2.06.94-2.06 2.06-.94-2.06-.94-.94-2.06-.94 2.06-2.06.94zm-11 1L8.5 8.5l.94-2.06 2.06-.94-2.06-.94L8.5 2.5l-.94 2.06-2.06.94zm10 10l.94 2.06.94-2.06 2.06-.94-2.06-.94-.94-2.06-.94 2.06-2.06.94z\"/><path d=\"M17.41 7.96l-1.37-1.37c-.4-.4-.92-.59-1.43-.59-.52 0-1.04.2-1.43.59L10.3 9.45l-7.72 7.72c-.78.78-.78 2.05 0 2.83L4 21.41c.39.39.9.59 1.41.59.51 0 1.02-.2 1.41-.59l7.78-7.78 2.81-2.81c.8-.78.8-2.07 0-2.86zM5.41 20L4 18.59l7.72-7.72 1.47 1.35L5.41 20z\"/>\n",
              "  </svg>\n",
              "      </button>\n",
              "      \n",
              "  <style>\n",
              "    .colab-df-container {\n",
              "      display:flex;\n",
              "      flex-wrap:wrap;\n",
              "      gap: 12px;\n",
              "    }\n",
              "\n",
              "    .colab-df-convert {\n",
              "      background-color: #E8F0FE;\n",
              "      border: none;\n",
              "      border-radius: 50%;\n",
              "      cursor: pointer;\n",
              "      display: none;\n",
              "      fill: #1967D2;\n",
              "      height: 32px;\n",
              "      padding: 0 0 0 0;\n",
              "      width: 32px;\n",
              "    }\n",
              "\n",
              "    .colab-df-convert:hover {\n",
              "      background-color: #E2EBFA;\n",
              "      box-shadow: 0px 1px 2px rgba(60, 64, 67, 0.3), 0px 1px 3px 1px rgba(60, 64, 67, 0.15);\n",
              "      fill: #174EA6;\n",
              "    }\n",
              "\n",
              "    [theme=dark] .colab-df-convert {\n",
              "      background-color: #3B4455;\n",
              "      fill: #D2E3FC;\n",
              "    }\n",
              "\n",
              "    [theme=dark] .colab-df-convert:hover {\n",
              "      background-color: #434B5C;\n",
              "      box-shadow: 0px 1px 3px 1px rgba(0, 0, 0, 0.15);\n",
              "      filter: drop-shadow(0px 1px 2px rgba(0, 0, 0, 0.3));\n",
              "      fill: #FFFFFF;\n",
              "    }\n",
              "  </style>\n",
              "\n",
              "      <script>\n",
              "        const buttonEl =\n",
              "          document.querySelector('#df-c8154ab2-a205-4232-a33f-4621f2d6b5ed button.colab-df-convert');\n",
              "        buttonEl.style.display =\n",
              "          google.colab.kernel.accessAllowed ? 'block' : 'none';\n",
              "\n",
              "        async function convertToInteractive(key) {\n",
              "          const element = document.querySelector('#df-c8154ab2-a205-4232-a33f-4621f2d6b5ed');\n",
              "          const dataTable =\n",
              "            await google.colab.kernel.invokeFunction('convertToInteractive',\n",
              "                                                     [key], {});\n",
              "          if (!dataTable) return;\n",
              "\n",
              "          const docLinkHtml = 'Like what you see? Visit the ' +\n",
              "            '<a target=\"_blank\" href=https://colab.research.google.com/notebooks/data_table.ipynb>data table notebook</a>'\n",
              "            + ' to learn more about interactive tables.';\n",
              "          element.innerHTML = '';\n",
              "          dataTable['output_type'] = 'display_data';\n",
              "          await google.colab.output.renderOutput(dataTable, element);\n",
              "          const docLink = document.createElement('div');\n",
              "          docLink.innerHTML = docLinkHtml;\n",
              "          element.appendChild(docLink);\n",
              "        }\n",
              "      </script>\n",
              "    </div>\n",
              "  </div>\n",
              "  "
            ]
          },
          "metadata": {},
          "execution_count": 35
        }
      ],
      "source": [
        "data_ratings = ratings.drop(['userId', 'timestamp'], axis = 1) \\\n",
        "                    .groupby('movieId') \\\n",
        "                    .mean() \\\n",
        "                    .rename(columns = {'rating': 'mean rating'})\n",
        "data_ratings"
      ]
    },
    {
      "cell_type": "markdown",
      "metadata": {
        "id": "urlf73NOxKTH"
      },
      "source": [
        "### Combinar Features y Output"
      ]
    },
    {
      "cell_type": "markdown",
      "metadata": {
        "id": "kqqA2xyDxKTH"
      },
      "source": [
        "Se agrupan las features y el output en un solo dataframe haciendo un inner join de ambas tablas. Al hacer esto se logra empatar justamente el word embedding de una película con el rating medio que le corresponde."
      ]
    },
    {
      "cell_type": "code",
      "execution_count": null,
      "metadata": {
        "id": "UZMtAMkYxKTH",
        "colab": {
          "base_uri": "https://localhost:8080/"
        },
        "outputId": "6aa88b78-062f-4c57-8c38-a1b7fd949857"
      },
      "outputs": [
        {
          "output_type": "execute_result",
          "data": {
            "text/plain": [
              "                                                      tags  Feature 0  \\\n",
              "movieId                                                                 \n",
              "1        animated buddy movie cartoon cgi comedy comput...   2.013787   \n",
              "2        fantasy adapted frombook animals bad cgi based...   1.688889   \n",
              "3        moldy old ann margaret burgess meredith daryl ...   1.189798   \n",
              "4        characters girl movie characters chick flick b...   0.053938   \n",
              "5        steve martin steve martin pregnancy remake agi...   0.366346   \n",
              "...                                                    ...        ...   \n",
              "193149   amaia salamanca bet brotherbrother relation br...   0.556910   \n",
              "193261   1930s actress anna mouglalis fear french horro...   0.250624   \n",
              "193293   chinese martial arts comedic goofy jiang shi j...   0.412071   \n",
              "193731   19th century based book conspiracy femme fatal...   0.272312   \n",
              "193761   concert hostage kidnapping opera singer rebel ...  -0.113452   \n",
              "\n",
              "         Feature 1  Feature 2  Feature 3  Feature 4  Feature 5  Feature 6  \\\n",
              "movieId                                                                     \n",
              "1        -2.873946  -2.503675  -0.382776   0.398324   0.087414   0.024961   \n",
              "2        -0.614420  -1.419735  -1.228704  -0.414678  -0.294612  -0.081384   \n",
              "3        -0.597724  -0.556180  -0.473029   0.371192  -0.208536   0.041325   \n",
              "4        -0.366784  -0.412073  -0.205644  -0.156985   0.110605  -0.162939   \n",
              "5        -0.822644  -0.504521  -0.632580  -0.124251  -0.630122   0.024234   \n",
              "...            ...        ...        ...        ...        ...        ...   \n",
              "193149   -0.422299  -0.345232  -0.421511  -0.071314  -0.040002  -0.273698   \n",
              "193261   -0.489365  -0.386644  -0.329540  -0.032275  -0.001654  -0.265961   \n",
              "193293   -0.398303  -0.148556  -0.114933   0.045140   0.091507  -0.336450   \n",
              "193731   -0.184673  -0.156042  -0.348946  -0.156872  -0.059394  -0.425303   \n",
              "193761   -0.264372  -0.402719  -0.337059  -0.063055   0.180231  -0.200969   \n",
              "\n",
              "         Feature 7  Feature 8  ...  Feature 41  Feature 42  Feature 43  \\\n",
              "movieId                        ...                                       \n",
              "1        -3.769047  -3.772265  ...    0.419805    0.153001   -0.195479   \n",
              "2        -0.472801  -2.389474  ...   -0.840519    0.495918    0.124137   \n",
              "3         0.077874  -0.220890  ...   -0.125711   -0.145979   -0.400362   \n",
              "4        -0.870266  -0.305826  ...   -0.044298   -0.231862   -0.354104   \n",
              "5        -0.520865  -0.546344  ...   -0.326051   -0.112760   -0.403732   \n",
              "...            ...        ...  ...         ...         ...         ...   \n",
              "193149   -0.634549  -0.511282  ...    0.232248   -0.155166   -0.065983   \n",
              "193261   -0.589779  -0.377170  ...   -0.050324    0.255248   -0.467842   \n",
              "193293   -0.250882  -0.516550  ...   -0.132912   -0.279821   -0.508315   \n",
              "193731   -0.270538  -0.283538  ...    0.265095   -0.002835    0.155435   \n",
              "193761   -0.381171  -0.155708  ...   -0.001531   -0.245354   -0.324637   \n",
              "\n",
              "         Feature 44  Feature 45  Feature 46  Feature 47  Feature 48  \\\n",
              "movieId                                                               \n",
              "1         -2.919035   -0.034676   -0.786196   -0.924649    4.244995   \n",
              "2         -0.774624    1.069695   -0.746827   -0.211570    2.374461   \n",
              "3         -0.500727    0.380398   -0.518261   -0.217905    0.593139   \n",
              "4         -0.322362    0.056779   -0.174689   -0.322855    0.735939   \n",
              "5         -0.401808    0.230172   -0.383597   -0.074782    1.114532   \n",
              "...             ...         ...         ...         ...         ...   \n",
              "193149     0.039399   -0.133581   -0.126984    0.134557    0.626172   \n",
              "193261     0.073673    0.049168    0.088859    0.085931    0.603636   \n",
              "193293    -0.251528   -0.102242   -0.064701    0.394265    0.472742   \n",
              "193731    -0.039757   -0.013435   -0.172700    0.367890    0.527375   \n",
              "193761    -0.045454    0.132934   -0.007777    0.054859    0.361772   \n",
              "\n",
              "         Feature 49  mean rating  \n",
              "movieId                           \n",
              "1          3.084903     3.886649  \n",
              "2          1.131040     3.246583  \n",
              "3          0.491987     3.173981  \n",
              "4          0.050495     2.874540  \n",
              "5          0.304644     3.077291  \n",
              "...             ...          ...  \n",
              "193149     0.032054     3.000000  \n",
              "193261     0.151208     3.250000  \n",
              "193293     0.009547     3.500000  \n",
              "193731     0.071540     3.000000  \n",
              "193761     0.000917     1.500000  \n",
              "\n",
              "[14572 rows x 52 columns]"
            ],
            "text/html": [
              "\n",
              "  <div id=\"df-0692250e-ad55-4f7a-bf51-6ecf3371d89d\">\n",
              "    <div class=\"colab-df-container\">\n",
              "      <div>\n",
              "<style scoped>\n",
              "    .dataframe tbody tr th:only-of-type {\n",
              "        vertical-align: middle;\n",
              "    }\n",
              "\n",
              "    .dataframe tbody tr th {\n",
              "        vertical-align: top;\n",
              "    }\n",
              "\n",
              "    .dataframe thead th {\n",
              "        text-align: right;\n",
              "    }\n",
              "</style>\n",
              "<table border=\"1\" class=\"dataframe\">\n",
              "  <thead>\n",
              "    <tr style=\"text-align: right;\">\n",
              "      <th></th>\n",
              "      <th>tags</th>\n",
              "      <th>Feature 0</th>\n",
              "      <th>Feature 1</th>\n",
              "      <th>Feature 2</th>\n",
              "      <th>Feature 3</th>\n",
              "      <th>Feature 4</th>\n",
              "      <th>Feature 5</th>\n",
              "      <th>Feature 6</th>\n",
              "      <th>Feature 7</th>\n",
              "      <th>Feature 8</th>\n",
              "      <th>...</th>\n",
              "      <th>Feature 41</th>\n",
              "      <th>Feature 42</th>\n",
              "      <th>Feature 43</th>\n",
              "      <th>Feature 44</th>\n",
              "      <th>Feature 45</th>\n",
              "      <th>Feature 46</th>\n",
              "      <th>Feature 47</th>\n",
              "      <th>Feature 48</th>\n",
              "      <th>Feature 49</th>\n",
              "      <th>mean rating</th>\n",
              "    </tr>\n",
              "    <tr>\n",
              "      <th>movieId</th>\n",
              "      <th></th>\n",
              "      <th></th>\n",
              "      <th></th>\n",
              "      <th></th>\n",
              "      <th></th>\n",
              "      <th></th>\n",
              "      <th></th>\n",
              "      <th></th>\n",
              "      <th></th>\n",
              "      <th></th>\n",
              "      <th></th>\n",
              "      <th></th>\n",
              "      <th></th>\n",
              "      <th></th>\n",
              "      <th></th>\n",
              "      <th></th>\n",
              "      <th></th>\n",
              "      <th></th>\n",
              "      <th></th>\n",
              "      <th></th>\n",
              "      <th></th>\n",
              "    </tr>\n",
              "  </thead>\n",
              "  <tbody>\n",
              "    <tr>\n",
              "      <th>1</th>\n",
              "      <td>animated buddy movie cartoon cgi comedy comput...</td>\n",
              "      <td>2.013787</td>\n",
              "      <td>-2.873946</td>\n",
              "      <td>-2.503675</td>\n",
              "      <td>-0.382776</td>\n",
              "      <td>0.398324</td>\n",
              "      <td>0.087414</td>\n",
              "      <td>0.024961</td>\n",
              "      <td>-3.769047</td>\n",
              "      <td>-3.772265</td>\n",
              "      <td>...</td>\n",
              "      <td>0.419805</td>\n",
              "      <td>0.153001</td>\n",
              "      <td>-0.195479</td>\n",
              "      <td>-2.919035</td>\n",
              "      <td>-0.034676</td>\n",
              "      <td>-0.786196</td>\n",
              "      <td>-0.924649</td>\n",
              "      <td>4.244995</td>\n",
              "      <td>3.084903</td>\n",
              "      <td>3.886649</td>\n",
              "    </tr>\n",
              "    <tr>\n",
              "      <th>2</th>\n",
              "      <td>fantasy adapted frombook animals bad cgi based...</td>\n",
              "      <td>1.688889</td>\n",
              "      <td>-0.614420</td>\n",
              "      <td>-1.419735</td>\n",
              "      <td>-1.228704</td>\n",
              "      <td>-0.414678</td>\n",
              "      <td>-0.294612</td>\n",
              "      <td>-0.081384</td>\n",
              "      <td>-0.472801</td>\n",
              "      <td>-2.389474</td>\n",
              "      <td>...</td>\n",
              "      <td>-0.840519</td>\n",
              "      <td>0.495918</td>\n",
              "      <td>0.124137</td>\n",
              "      <td>-0.774624</td>\n",
              "      <td>1.069695</td>\n",
              "      <td>-0.746827</td>\n",
              "      <td>-0.211570</td>\n",
              "      <td>2.374461</td>\n",
              "      <td>1.131040</td>\n",
              "      <td>3.246583</td>\n",
              "    </tr>\n",
              "    <tr>\n",
              "      <th>3</th>\n",
              "      <td>moldy old ann margaret burgess meredith daryl ...</td>\n",
              "      <td>1.189798</td>\n",
              "      <td>-0.597724</td>\n",
              "      <td>-0.556180</td>\n",
              "      <td>-0.473029</td>\n",
              "      <td>0.371192</td>\n",
              "      <td>-0.208536</td>\n",
              "      <td>0.041325</td>\n",
              "      <td>0.077874</td>\n",
              "      <td>-0.220890</td>\n",
              "      <td>...</td>\n",
              "      <td>-0.125711</td>\n",
              "      <td>-0.145979</td>\n",
              "      <td>-0.400362</td>\n",
              "      <td>-0.500727</td>\n",
              "      <td>0.380398</td>\n",
              "      <td>-0.518261</td>\n",
              "      <td>-0.217905</td>\n",
              "      <td>0.593139</td>\n",
              "      <td>0.491987</td>\n",
              "      <td>3.173981</td>\n",
              "    </tr>\n",
              "    <tr>\n",
              "      <th>4</th>\n",
              "      <td>characters girl movie characters chick flick b...</td>\n",
              "      <td>0.053938</td>\n",
              "      <td>-0.366784</td>\n",
              "      <td>-0.412073</td>\n",
              "      <td>-0.205644</td>\n",
              "      <td>-0.156985</td>\n",
              "      <td>0.110605</td>\n",
              "      <td>-0.162939</td>\n",
              "      <td>-0.870266</td>\n",
              "      <td>-0.305826</td>\n",
              "      <td>...</td>\n",
              "      <td>-0.044298</td>\n",
              "      <td>-0.231862</td>\n",
              "      <td>-0.354104</td>\n",
              "      <td>-0.322362</td>\n",
              "      <td>0.056779</td>\n",
              "      <td>-0.174689</td>\n",
              "      <td>-0.322855</td>\n",
              "      <td>0.735939</td>\n",
              "      <td>0.050495</td>\n",
              "      <td>2.874540</td>\n",
              "    </tr>\n",
              "    <tr>\n",
              "      <th>5</th>\n",
              "      <td>steve martin steve martin pregnancy remake agi...</td>\n",
              "      <td>0.366346</td>\n",
              "      <td>-0.822644</td>\n",
              "      <td>-0.504521</td>\n",
              "      <td>-0.632580</td>\n",
              "      <td>-0.124251</td>\n",
              "      <td>-0.630122</td>\n",
              "      <td>0.024234</td>\n",
              "      <td>-0.520865</td>\n",
              "      <td>-0.546344</td>\n",
              "      <td>...</td>\n",
              "      <td>-0.326051</td>\n",
              "      <td>-0.112760</td>\n",
              "      <td>-0.403732</td>\n",
              "      <td>-0.401808</td>\n",
              "      <td>0.230172</td>\n",
              "      <td>-0.383597</td>\n",
              "      <td>-0.074782</td>\n",
              "      <td>1.114532</td>\n",
              "      <td>0.304644</td>\n",
              "      <td>3.077291</td>\n",
              "    </tr>\n",
              "    <tr>\n",
              "      <th>...</th>\n",
              "      <td>...</td>\n",
              "      <td>...</td>\n",
              "      <td>...</td>\n",
              "      <td>...</td>\n",
              "      <td>...</td>\n",
              "      <td>...</td>\n",
              "      <td>...</td>\n",
              "      <td>...</td>\n",
              "      <td>...</td>\n",
              "      <td>...</td>\n",
              "      <td>...</td>\n",
              "      <td>...</td>\n",
              "      <td>...</td>\n",
              "      <td>...</td>\n",
              "      <td>...</td>\n",
              "      <td>...</td>\n",
              "      <td>...</td>\n",
              "      <td>...</td>\n",
              "      <td>...</td>\n",
              "      <td>...</td>\n",
              "      <td>...</td>\n",
              "    </tr>\n",
              "    <tr>\n",
              "      <th>193149</th>\n",
              "      <td>amaia salamanca bet brotherbrother relation br...</td>\n",
              "      <td>0.556910</td>\n",
              "      <td>-0.422299</td>\n",
              "      <td>-0.345232</td>\n",
              "      <td>-0.421511</td>\n",
              "      <td>-0.071314</td>\n",
              "      <td>-0.040002</td>\n",
              "      <td>-0.273698</td>\n",
              "      <td>-0.634549</td>\n",
              "      <td>-0.511282</td>\n",
              "      <td>...</td>\n",
              "      <td>0.232248</td>\n",
              "      <td>-0.155166</td>\n",
              "      <td>-0.065983</td>\n",
              "      <td>0.039399</td>\n",
              "      <td>-0.133581</td>\n",
              "      <td>-0.126984</td>\n",
              "      <td>0.134557</td>\n",
              "      <td>0.626172</td>\n",
              "      <td>0.032054</td>\n",
              "      <td>3.000000</td>\n",
              "    </tr>\n",
              "    <tr>\n",
              "      <th>193261</th>\n",
              "      <td>1930s actress anna mouglalis fear french horro...</td>\n",
              "      <td>0.250624</td>\n",
              "      <td>-0.489365</td>\n",
              "      <td>-0.386644</td>\n",
              "      <td>-0.329540</td>\n",
              "      <td>-0.032275</td>\n",
              "      <td>-0.001654</td>\n",
              "      <td>-0.265961</td>\n",
              "      <td>-0.589779</td>\n",
              "      <td>-0.377170</td>\n",
              "      <td>...</td>\n",
              "      <td>-0.050324</td>\n",
              "      <td>0.255248</td>\n",
              "      <td>-0.467842</td>\n",
              "      <td>0.073673</td>\n",
              "      <td>0.049168</td>\n",
              "      <td>0.088859</td>\n",
              "      <td>0.085931</td>\n",
              "      <td>0.603636</td>\n",
              "      <td>0.151208</td>\n",
              "      <td>3.250000</td>\n",
              "    </tr>\n",
              "    <tr>\n",
              "      <th>193293</th>\n",
              "      <td>chinese martial arts comedic goofy jiang shi j...</td>\n",
              "      <td>0.412071</td>\n",
              "      <td>-0.398303</td>\n",
              "      <td>-0.148556</td>\n",
              "      <td>-0.114933</td>\n",
              "      <td>0.045140</td>\n",
              "      <td>0.091507</td>\n",
              "      <td>-0.336450</td>\n",
              "      <td>-0.250882</td>\n",
              "      <td>-0.516550</td>\n",
              "      <td>...</td>\n",
              "      <td>-0.132912</td>\n",
              "      <td>-0.279821</td>\n",
              "      <td>-0.508315</td>\n",
              "      <td>-0.251528</td>\n",
              "      <td>-0.102242</td>\n",
              "      <td>-0.064701</td>\n",
              "      <td>0.394265</td>\n",
              "      <td>0.472742</td>\n",
              "      <td>0.009547</td>\n",
              "      <td>3.500000</td>\n",
              "    </tr>\n",
              "    <tr>\n",
              "      <th>193731</th>\n",
              "      <td>19th century based book conspiracy femme fatal...</td>\n",
              "      <td>0.272312</td>\n",
              "      <td>-0.184673</td>\n",
              "      <td>-0.156042</td>\n",
              "      <td>-0.348946</td>\n",
              "      <td>-0.156872</td>\n",
              "      <td>-0.059394</td>\n",
              "      <td>-0.425303</td>\n",
              "      <td>-0.270538</td>\n",
              "      <td>-0.283538</td>\n",
              "      <td>...</td>\n",
              "      <td>0.265095</td>\n",
              "      <td>-0.002835</td>\n",
              "      <td>0.155435</td>\n",
              "      <td>-0.039757</td>\n",
              "      <td>-0.013435</td>\n",
              "      <td>-0.172700</td>\n",
              "      <td>0.367890</td>\n",
              "      <td>0.527375</td>\n",
              "      <td>0.071540</td>\n",
              "      <td>3.000000</td>\n",
              "    </tr>\n",
              "    <tr>\n",
              "      <th>193761</th>\n",
              "      <td>concert hostage kidnapping opera singer rebel ...</td>\n",
              "      <td>-0.113452</td>\n",
              "      <td>-0.264372</td>\n",
              "      <td>-0.402719</td>\n",
              "      <td>-0.337059</td>\n",
              "      <td>-0.063055</td>\n",
              "      <td>0.180231</td>\n",
              "      <td>-0.200969</td>\n",
              "      <td>-0.381171</td>\n",
              "      <td>-0.155708</td>\n",
              "      <td>...</td>\n",
              "      <td>-0.001531</td>\n",
              "      <td>-0.245354</td>\n",
              "      <td>-0.324637</td>\n",
              "      <td>-0.045454</td>\n",
              "      <td>0.132934</td>\n",
              "      <td>-0.007777</td>\n",
              "      <td>0.054859</td>\n",
              "      <td>0.361772</td>\n",
              "      <td>0.000917</td>\n",
              "      <td>1.500000</td>\n",
              "    </tr>\n",
              "  </tbody>\n",
              "</table>\n",
              "<p>14572 rows × 52 columns</p>\n",
              "</div>\n",
              "      <button class=\"colab-df-convert\" onclick=\"convertToInteractive('df-0692250e-ad55-4f7a-bf51-6ecf3371d89d')\"\n",
              "              title=\"Convert this dataframe to an interactive table.\"\n",
              "              style=\"display:none;\">\n",
              "        \n",
              "  <svg xmlns=\"http://www.w3.org/2000/svg\" height=\"24px\"viewBox=\"0 0 24 24\"\n",
              "       width=\"24px\">\n",
              "    <path d=\"M0 0h24v24H0V0z\" fill=\"none\"/>\n",
              "    <path d=\"M18.56 5.44l.94 2.06.94-2.06 2.06-.94-2.06-.94-.94-2.06-.94 2.06-2.06.94zm-11 1L8.5 8.5l.94-2.06 2.06-.94-2.06-.94L8.5 2.5l-.94 2.06-2.06.94zm10 10l.94 2.06.94-2.06 2.06-.94-2.06-.94-.94-2.06-.94 2.06-2.06.94z\"/><path d=\"M17.41 7.96l-1.37-1.37c-.4-.4-.92-.59-1.43-.59-.52 0-1.04.2-1.43.59L10.3 9.45l-7.72 7.72c-.78.78-.78 2.05 0 2.83L4 21.41c.39.39.9.59 1.41.59.51 0 1.02-.2 1.41-.59l7.78-7.78 2.81-2.81c.8-.78.8-2.07 0-2.86zM5.41 20L4 18.59l7.72-7.72 1.47 1.35L5.41 20z\"/>\n",
              "  </svg>\n",
              "      </button>\n",
              "      \n",
              "  <style>\n",
              "    .colab-df-container {\n",
              "      display:flex;\n",
              "      flex-wrap:wrap;\n",
              "      gap: 12px;\n",
              "    }\n",
              "\n",
              "    .colab-df-convert {\n",
              "      background-color: #E8F0FE;\n",
              "      border: none;\n",
              "      border-radius: 50%;\n",
              "      cursor: pointer;\n",
              "      display: none;\n",
              "      fill: #1967D2;\n",
              "      height: 32px;\n",
              "      padding: 0 0 0 0;\n",
              "      width: 32px;\n",
              "    }\n",
              "\n",
              "    .colab-df-convert:hover {\n",
              "      background-color: #E2EBFA;\n",
              "      box-shadow: 0px 1px 2px rgba(60, 64, 67, 0.3), 0px 1px 3px 1px rgba(60, 64, 67, 0.15);\n",
              "      fill: #174EA6;\n",
              "    }\n",
              "\n",
              "    [theme=dark] .colab-df-convert {\n",
              "      background-color: #3B4455;\n",
              "      fill: #D2E3FC;\n",
              "    }\n",
              "\n",
              "    [theme=dark] .colab-df-convert:hover {\n",
              "      background-color: #434B5C;\n",
              "      box-shadow: 0px 1px 3px 1px rgba(0, 0, 0, 0.15);\n",
              "      filter: drop-shadow(0px 1px 2px rgba(0, 0, 0, 0.3));\n",
              "      fill: #FFFFFF;\n",
              "    }\n",
              "  </style>\n",
              "\n",
              "      <script>\n",
              "        const buttonEl =\n",
              "          document.querySelector('#df-0692250e-ad55-4f7a-bf51-6ecf3371d89d button.colab-df-convert');\n",
              "        buttonEl.style.display =\n",
              "          google.colab.kernel.accessAllowed ? 'block' : 'none';\n",
              "\n",
              "        async function convertToInteractive(key) {\n",
              "          const element = document.querySelector('#df-0692250e-ad55-4f7a-bf51-6ecf3371d89d');\n",
              "          const dataTable =\n",
              "            await google.colab.kernel.invokeFunction('convertToInteractive',\n",
              "                                                     [key], {});\n",
              "          if (!dataTable) return;\n",
              "\n",
              "          const docLinkHtml = 'Like what you see? Visit the ' +\n",
              "            '<a target=\"_blank\" href=https://colab.research.google.com/notebooks/data_table.ipynb>data table notebook</a>'\n",
              "            + ' to learn more about interactive tables.';\n",
              "          element.innerHTML = '';\n",
              "          dataTable['output_type'] = 'display_data';\n",
              "          await google.colab.output.renderOutput(dataTable, element);\n",
              "          const docLink = document.createElement('div');\n",
              "          docLink.innerHTML = docLinkHtml;\n",
              "          element.appendChild(docLink);\n",
              "        }\n",
              "      </script>\n",
              "    </div>\n",
              "  </div>\n",
              "  "
            ]
          },
          "metadata": {},
          "execution_count": 36
        }
      ],
      "source": [
        "data = pd.concat([data_tags, data_embeddings, data_ratings], join='inner', axis=1)\n",
        "data"
      ]
    },
    {
      "cell_type": "markdown",
      "metadata": {
        "id": "68TGHpUgxKTI"
      },
      "source": [
        "### Guardar Dataset Preprocesado"
      ]
    },
    {
      "cell_type": "markdown",
      "metadata": {
        "id": "DHiPHUS2xKTI"
      },
      "source": [
        "Se  guardan los datos preprocesados en un archivo csv, para no tener que volver a ejecutar el preprocesamiento cada vez que se abra el google colab"
      ]
    },
    {
      "cell_type": "code",
      "execution_count": null,
      "metadata": {
        "id": "RaIgaU9dxKTI"
      },
      "outputs": [],
      "source": [
        "data.to_csv(f'{dataset}.csv')"
      ]
    },
    {
      "cell_type": "markdown",
      "metadata": {
        "id": "QYHhN5tmxKTI"
      },
      "source": [
        "## Cargar Dataset Preprocesado"
      ]
    },
    {
      "cell_type": "code",
      "execution_count": null,
      "metadata": {
        "id": "mZ77Gze4zfgX",
        "colab": {
          "base_uri": "https://localhost:8080/",
          "height": 104
        },
        "outputId": "41e38066-7220-4492-cd92-51eeef371ca0"
      },
      "outputs": [
        {
          "output_type": "stream",
          "name": "stderr",
          "text": [
            "Downloading...\n",
            "From: https://drive.google.com/uc?id=17J1YXv32hglCR9P_xE9g7mDTIEE6AHzr\n",
            "To: /content/ml-latest.csv\n",
            "100%|██████████| 19.8M/19.8M [00:00<00:00, 143MB/s]\n"
          ]
        },
        {
          "output_type": "execute_result",
          "data": {
            "text/plain": [
              "'ml-latest.csv'"
            ],
            "application/vnd.google.colaboratory.intrinsic+json": {
              "type": "string"
            }
          },
          "metadata": {},
          "execution_count": 3
        }
      ],
      "source": [
        "dataset = \"ml-latest\"\n",
        "drive_url = \"https://drive.google.com/uc?id=17J1YXv32hglCR9P_xE9g7mDTIEE6AHzr\"\n",
        "gdown.download(drive_url, f'{dataset}.csv')"
      ]
    },
    {
      "cell_type": "code",
      "execution_count": null,
      "metadata": {
        "id": "nK68GBboxKTI",
        "colab": {
          "base_uri": "https://localhost:8080/"
        },
        "outputId": "182f5d2f-b6e1-4638-94e2-063e81333485"
      },
      "outputs": [
        {
          "output_type": "execute_result",
          "data": {
            "text/plain": [
              "(14572, 50)"
            ]
          },
          "metadata": {},
          "execution_count": 4
        }
      ],
      "source": [
        "data = pd.read_csv(f'{dataset}.csv')\n",
        "X = data.drop(['movieId', 'tags', 'mean rating'], axis=1)\n",
        "y = data['mean rating'].to_frame()\n",
        "X.shape"
      ]
    },
    {
      "cell_type": "markdown",
      "metadata": {
        "id": "6F9RmcmnxKTJ"
      },
      "source": [
        "## Visualización del Dataset"
      ]
    },
    {
      "cell_type": "markdown",
      "metadata": {
        "id": "EjKmtJ9CxKTJ"
      },
      "source": [
        "Utilizando TSNE se realiza una reducción de dimensionalidad de las features hacia un espacio de dos dimensiones. Se visualiza el dataset en este nuevo espacio, utilizando una escala de color para indicar el rating correspondiente a cada instancia."
      ]
    },
    {
      "cell_type": "code",
      "execution_count": null,
      "metadata": {
        "id": "Y6nvrdkhxKTJ"
      },
      "outputs": [],
      "source": [
        "dim_reduction = make_pipeline(MinMaxScaler(), TSNE(n_components=2))\n",
        "num_points = 1500\n",
        "X_sampled = X.sample(n=num_points, random_state=123)\n",
        "Z = dim_reduction.fit_transform(X_sampled)\n",
        "dim1 = Z[:,0]\n",
        "dim2 = Z[:,1]\n",
        "\n",
        "y_sampled = y.sample(n=num_points, random_state=123)\n",
        "colors = np.array(y_sampled)"
      ]
    },
    {
      "cell_type": "code",
      "execution_count": null,
      "metadata": {
        "id": "qjl6SqG73YWB",
        "colab": {
          "base_uri": "https://localhost:8080/"
        },
        "outputId": "08845ee9-911f-47d6-a76f-ef04e3a61b77"
      },
      "outputs": [
        {
          "output_type": "execute_result",
          "data": {
            "text/plain": [
              "[]"
            ]
          },
          "metadata": {},
          "execution_count": 41
        },
        {
          "output_type": "display_data",
          "data": {
            "text/plain": [
              "<Figure size 640x480 with 2 Axes>"
            ],
            "image/png": "[encoded data removed]"
          },
          "metadata": {
            "needs_background": "light"
          }
        }
      ],
      "source": [
        "plt.figure(figsize=(8, 6), dpi=80)\n",
        "plt.scatter(dim1, dim2, c=colors, vmin=0, vmax=5, cmap='seismic', alpha=0.8)\n",
        "plt.xlabel(\"TSNE Component 1\")\n",
        "plt.ylabel(\"TSNE Component 2\")\n",
        "plt.colorbar().set_label(\"Mean Rating\")\n",
        "plt.plot()"
      ]
    },
    {
      "cell_type": "markdown",
      "metadata": {
        "id": "dz7yHYcYxKTJ"
      },
      "source": [
        "## Entrenamiento y evaluación de modelos"
      ]
    },
    {
      "cell_type": "markdown",
      "source": [
        "### Baseline"
      ],
      "metadata": {
        "id": "-jzW1ErEFS7I"
      }
    },
    {
      "cell_type": "markdown",
      "source": [
        "Como baseline para saber qué tan bien se desempeña un modelo se podría usar el error cuadrático medio que se obtiene al predecir a cada película que su rating promedio es exactamente igual al promedio del rating promedio sobre todas las películas."
      ],
      "metadata": {
        "id": "yKMwMJk6GOWv"
      }
    },
    {
      "cell_type": "code",
      "source": [
        "mean_squared_error(y, [y.mean()]*len(y))"
      ],
      "metadata": {
        "colab": {
          "base_uri": "https://localhost:8080/"
        },
        "id": "Rcdmg8tOFXEG",
        "outputId": "ad24a212-f983-4004-9f24-72fd006bcc79"
      },
      "execution_count": null,
      "outputs": [
        {
          "output_type": "execute_result",
          "data": {
            "text/plain": [
              "0.2808388812925702"
            ]
          },
          "metadata": {},
          "execution_count": 9
        }
      ]
    },
    {
      "cell_type": "markdown",
      "metadata": {
        "id": "_XyFYrBFxKTK"
      },
      "source": [
        "### Regresión Lineal Regularizada: ElasticNet"
      ]
    },
    {
      "cell_type": "markdown",
      "source": [
        "#### Definición Modelo"
      ],
      "metadata": {
        "id": "cH1VP1HBTEDh"
      }
    },
    {
      "cell_type": "markdown",
      "metadata": {
        "id": "56dfYfjQ3Gp2"
      },
      "source": [
        "Se crea una funcion que genere un  Pipeline que lleve a cabo las transformaciones de preprocesamiento deseadas: Generacion de Features Polinomiales y Normalizacion. E igualmente que contenga el modelo de Regresion Lineal Regularizado con ElasticNet."
      ]
    },
    {
      "cell_type": "code",
      "execution_count": null,
      "metadata": {
        "id": "QjlpcoVIJJ3X"
      },
      "outputs": [],
      "source": [
        "def create_linearRegPipeline():\n",
        "  return Pipeline([('polyfeats', PolynomialFeatures()),\n",
        "                    ('minmax', MinMaxScaler()),\n",
        "                    ('elasticnet', ElasticNet())])"
      ]
    },
    {
      "cell_type": "markdown",
      "source": [
        "#### Definición GridSearch"
      ],
      "metadata": {
        "id": "mVt30kMITJ0s"
      }
    },
    {
      "cell_type": "markdown",
      "metadata": {
        "id": "w99rLJDUTzMQ"
      },
      "source": [
        "Se crea un diccionario de los hyperparametros a optimizar dentro de el modelo regularizado que son: grado de las caracteristicas polinomiales generadas, hyperparametro alpha, y proporcion l1:l2. También se define el gridsearch para realizar la búsqueda de hyperparámetros."
      ]
    },
    {
      "cell_type": "code",
      "execution_count": null,
      "metadata": {
        "id": "0nvE_pwwVfCf",
        "colab": {
          "base_uri": "https://localhost:8080/"
        },
        "outputId": "ae7e5713-84ec-4ae6-e7e7-8cbc4042d198"
      },
      "outputs": [
        {
          "output_type": "execute_result",
          "data": {
            "text/plain": [
              "GridSearchCV(cv=KFold(n_splits=3, random_state=12345, shuffle=True),\n",
              "             estimator=Pipeline(steps=[('polyfeats', PolynomialFeatures()),\n",
              "                                       ('minmax', MinMaxScaler()),\n",
              "                                       ('elasticnet', ElasticNet())]),\n",
              "             param_grid={'elasticnet__alpha': [0.01, 0.1, 1],\n",
              "                         'elasticnet__l1_ratio': [0.25, 0.5, 0.75],\n",
              "                         'polyfeats__degree': [1, 2]},\n",
              "             scoring='neg_mean_squared_error')"
            ]
          },
          "metadata": {},
          "execution_count": 43
        }
      ],
      "source": [
        "degreeFeats=[1, 2]\n",
        "alpharange=[0.01, 0.1, 1]\n",
        "l1range=[0.25, 0.5, 0.75]\n",
        "params_LR=dict(polyfeats__degree=degreeFeats,\n",
        "                elasticnet__alpha=alpharange,\n",
        "                elasticnet__l1_ratio=l1range)\n",
        "\n",
        "pipe_lr = create_linearRegPipeline()\n",
        "inner_kfold = KFold(n_splits=3, shuffle=True, random_state=12345)\n",
        "grid_search_LR = GridSearchCV(pipe_lr, params_LR,  scoring='neg_mean_squared_error', cv=inner_kfold, refit=True)\n",
        "grid_search_LR"
      ]
    },
    {
      "cell_type": "markdown",
      "metadata": {
        "id": "-sjErWXTxTIJ"
      },
      "source": [
        "#### Ejecución Cross Validation"
      ]
    },
    {
      "cell_type": "code",
      "execution_count": null,
      "metadata": {
        "id": "EUywd2YBmYim",
        "colab": {
          "base_uri": "https://localhost:8080/"
        },
        "outputId": "209b289c-cb9c-460b-fca9-1a418b83ec4b"
      },
      "outputs": [
        {
          "output_type": "execute_result",
          "data": {
            "text/plain": [
              "array([0.24446379, 0.26571127, 0.27475148, 0.26005614, 0.23737063,\n",
              "       0.27355744, 0.25655382, 0.27165377, 0.25634366, 0.26014087,\n",
              "       0.26311904, 0.24833001])"
            ]
          },
          "metadata": {},
          "execution_count": 223
        }
      ],
      "source": [
        "outer_kfold = RepeatedKFold(n_splits=6, n_repeats=2, random_state=12345)\n",
        "cv_results_LR = - cross_val_score(grid_search_LR, X=X, y=y, cv=outer_kfold)\n",
        "cv_results_LR"
      ]
    },
    {
      "cell_type": "markdown",
      "metadata": {
        "id": "jyGgtxims-Pj"
      },
      "source": [
        "#### Modelo Final"
      ]
    },
    {
      "cell_type": "markdown",
      "source": [
        "Se hallan los mejores hyperaparametros y se entrena un último modelo sobre todo el dataset"
      ],
      "metadata": {
        "id": "hmrQVTfcOatS"
      }
    },
    {
      "cell_type": "code",
      "execution_count": null,
      "metadata": {
        "id": "8FuTLqqzee4A",
        "colab": {
          "base_uri": "https://localhost:8080/"
        },
        "outputId": "6c33f6eb-ff7c-4674-94e8-afb22cef5098"
      },
      "outputs": [
        {
          "output_type": "execute_result",
          "data": {
            "text/plain": [
              "{'elasticnet__alpha': 0.01,\n",
              " 'elasticnet__l1_ratio': 0.25,\n",
              " 'polyfeats__degree': 1}"
            ]
          },
          "metadata": {},
          "execution_count": 44
        }
      ],
      "source": [
        "grid_search_LR.fit(X, y)\n",
        "grid_search_LR.best_params_"
      ]
    },
    {
      "cell_type": "code",
      "execution_count": null,
      "metadata": {
        "id": "htLnDrIbyAw0"
      },
      "outputs": [],
      "source": [
        "X_train, X_test, y_train, y_test = train_test_split(X, y, test_size=0.1, random_state=123)\n",
        "\n",
        "best_degree = grid_search_LR.best_params_['polyfeats__degree']\n",
        "best_alpha = grid_search_LR.best_params_['elasticnet__alpha']\n",
        "best_l1_ration = grid_search_LR.best_params_['elasticnet__l1_ratio']\n",
        "\n",
        "best_pipeline_LR = Pipeline([('polyfeats', PolynomialFeatures(degree=best_degree)),\n",
        "                             ('minmax', MinMaxScaler()),\n",
        "                             ('elasticnet', ElasticNet(alpha=best_alpha, l1_ratio=best_l1_ration))])\n",
        "best_pipeline_LR = best_pipeline_LR.fit(X_train, y_train)"
      ]
    },
    {
      "cell_type": "markdown",
      "source": [
        "##### Metricas Modelo Final"
      ],
      "metadata": {
        "id": "d3n9ioUAOrV3"
      }
    },
    {
      "cell_type": "code",
      "source": [
        "y_train_pred = best_pipeline_LR.predict(X_train)\n",
        "y_test_pred = best_pipeline_LR.predict(X_test)\n",
        "\n",
        "metrics = {\n",
        "    'loss': best_pipeline_LR.score(X_train, y_train),\n",
        "    'mean_squared_error': mean_squared_error(y_train, y_train_pred),\n",
        "    'root_mean_squared_error': mean_squared_error(y_train, y_train_pred, squared=False),\n",
        "    'r_square':  r2_score(y_train, y_train_pred),\n",
        "    'val_loss': best_pipeline_LR.score(X_test, y_test),\n",
        "    'val_mean_squared_error': mean_squared_error(y_test, y_test_pred),\n",
        "    'val_root_mean_squared_error': mean_squared_error(y_test, y_test_pred, squared=False),\n",
        "    'val_r_square':  r2_score(y_test, y_test_pred)\n",
        "}\n",
        "metrics = pd.Series(metrics)\n",
        "metrics"
      ],
      "metadata": {
        "colab": {
          "base_uri": "https://localhost:8080/"
        },
        "id": "ifrx6ATuPnv1",
        "outputId": "6f181c83-476b-436f-925b-f4d9aebb9b3e"
      },
      "execution_count": null,
      "outputs": [
        {
          "output_type": "execute_result",
          "data": {
            "text/plain": [
              "loss                           0.074405\n",
              "mean_squared_error             0.260901\n",
              "root_mean_squared_error        0.510785\n",
              "r_square                       0.074405\n",
              "val_loss                       0.068529\n",
              "val_mean_squared_error         0.252901\n",
              "val_root_mean_squared_error    0.502892\n",
              "val_r_square                   0.068529\n",
              "dtype: float64"
            ]
          },
          "metadata": {},
          "execution_count": 46
        }
      ]
    },
    {
      "cell_type": "markdown",
      "source": [
        "##### Exportar Modelo Final"
      ],
      "metadata": {
        "id": "NB22GN95OtHY"
      }
    },
    {
      "cell_type": "markdown",
      "metadata": {
        "id": "1z9tVAABVb3q"
      },
      "source": [
        "Se guarda el modelo entrenado dentro de un archivo: "
      ]
    },
    {
      "cell_type": "code",
      "source": [
        "joblib.dump(best_pipeline_LR, 'best_pipeline_LR.joblib')"
      ],
      "metadata": {
        "colab": {
          "base_uri": "https://localhost:8080/"
        },
        "id": "Zi305jSB-qtK",
        "outputId": "ca887302-72bf-4ca1-adb8-2807d79bb43a"
      },
      "execution_count": null,
      "outputs": [
        {
          "output_type": "execute_result",
          "data": {
            "text/plain": [
              "['best_pipeline_LR.joblib']"
            ]
          },
          "metadata": {},
          "execution_count": 47
        }
      ]
    },
    {
      "cell_type": "markdown",
      "source": [
        "#### Learning Curve"
      ],
      "metadata": {
        "id": "vxhvoxkNXZoR"
      }
    },
    {
      "cell_type": "code",
      "source": [
        "tloss=[]\n",
        "vloss=[]\n",
        "xsize=[]\n",
        "X_train, X_test, y_train, y_test = train_test_split(X, y, test_size=0.1, random_state=123)\n",
        "for i in range(14000):\n",
        "  xtrain=X_train[:i+1]\n",
        "  ytrain=y_train[:i+1]\n",
        "  xsize.append(i)\n",
        "  temp_model=best_pipeline_LR.fit(xtrain,ytrain)\n",
        "  ytrain_pred=temp_model.predict(xtrain) \n",
        "  tloss.append(mean_squared_error(ytrain,ytrain_pred))\n",
        "  ytest_pred=temp_model.predict(X_test)\n",
        "  vloss.append(mean_squared_error(y_test,ytest_pred))\n",
        "\n",
        "plt.subplots(1, figsize=(10,10))\n",
        "plt.plot(xsize, tloss, color=\"#ff1100\",  label=\"Training loss\")\n",
        "plt.plot(xsize, vloss, color=\"#0011ff\", label=\"Testing loss\")\n",
        "plt.xlabel(\"Testing set size\")\n",
        "plt.ylabel(\"Loss\")\n",
        "plt.legend()\n",
        "plt.show()"
      ],
      "metadata": {
        "id": "F4NxY85jXdke",
        "colab": {
          "base_uri": "https://localhost:8080/",
          "height": 606
        },
        "outputId": "aedc835b-1b7d-4f41-9212-373cecbca00c"
      },
      "execution_count": null,
      "outputs": [
        {
          "output_type": "display_data",
          "data": {
            "text/plain": [
              "<Figure size 720x720 with 1 Axes>"
            ],
            "image/png": "[encoded data removed]"
          },
          "metadata": {
            "needs_background": "light"
          }
        }
      ]
    },
    {
      "cell_type": "markdown",
      "metadata": {
        "id": "3xh8DboOxKTL"
      },
      "source": [
        "### Red Neuronal"
      ]
    },
    {
      "cell_type": "markdown",
      "source": [
        "#### Definición Modelo"
      ],
      "metadata": {
        "id": "CDfHRlk0Tahv"
      }
    },
    {
      "cell_type": "markdown",
      "metadata": {
        "id": "qUXSLAMVxKTL"
      },
      "source": [
        "Se aprovecha de la flexibilidad de las redes neuronales para definir una función de activación propia llamada rating_activation. Esta activación permitirá mapear un número real al intervalo (0,5), que es justamente el intervalo de predicción para el rating medio.\n",
        "\n",
        "Se escribe una función para crear una arquitectura de red que recibe como parámetro el número de capas ocultas, número de neuronas por capa oculta, y el factor de regularización. La red neuronal se optimizará en base a la métrica de error cuadrático medio, usando el método de descenso de gradiente adam."
      ]
    },
    {
      "cell_type": "code",
      "execution_count": null,
      "metadata": {
        "id": "rtoA5irAxKTM",
        "colab": {
          "base_uri": "https://localhost:8080/"
        },
        "outputId": "8a03edc9-a125-437e-dc72-07015c825655"
      },
      "outputs": [
        {
          "output_type": "stream",
          "name": "stdout",
          "text": [
            "Model: \"sequential\"\n",
            "_________________________________________________________________\n",
            " Layer (type)                Output Shape              Param #   \n",
            "=================================================================\n",
            " dense (Dense)               (None, 20)                1020      \n",
            "                                                                 \n",
            " dense_1 (Dense)             (None, 20)                420       \n",
            "                                                                 \n",
            " dense_2 (Dense)             (None, 1)                 21        \n",
            "                                                                 \n",
            " activation (Activation)     (None, 1)                 0         \n",
            "                                                                 \n",
            "=================================================================\n",
            "Total params: 1,461\n",
            "Trainable params: 1,461\n",
            "Non-trainable params: 0\n",
            "_________________________________________________________________\n"
          ]
        }
      ],
      "source": [
        "def rating_activation(X):\n",
        "    return 5 * keras.backend.sigmoid(X)\n",
        "\n",
        "def create_neural_network(hidden_layers, neurons, regularization):\n",
        "    regularizer = keras.regularizers.L1L2(l1=regularization, l2=regularization)\n",
        "    model = keras.models.Sequential()\n",
        "    model.add(keras.layers.InputLayer(input_shape = (50)))\n",
        "    for layer in range(hidden_layers):\n",
        "        model.add(keras.layers.Dense(units = neurons, activation='relu', kernel_regularizer=regularizer))\n",
        "    model.add(keras.layers.Dense(units = 1, kernel_regularizer=regularizer))\n",
        "    model.add(keras.layers.Activation(rating_activation))\n",
        "    model.compile(optimizer='adam', loss='mean_squared_error', \n",
        "                  metrics=[MeanSquaredError(), RootMeanSquaredError(), RSquare()])\n",
        "    return model\n",
        "\n",
        "create_neural_network(2, 20, 0.1).summary() # Model example"
      ]
    },
    {
      "cell_type": "markdown",
      "source": [
        "#### Definición GridSearch"
      ],
      "metadata": {
        "id": "IqW-mjulTfXm"
      }
    },
    {
      "cell_type": "markdown",
      "metadata": {
        "id": "5PD7iFbVxKTN"
      },
      "source": [
        "Se construye un pipeline en el que se aplicará de forma secuencial la normalización de los datos y entrenamiento del modelo. También se define un gridsearch que se encargará de realizar la búsqueda de hyperparámetros óptimos del pipeline."
      ]
    },
    {
      "cell_type": "code",
      "execution_count": null,
      "metadata": {
        "id": "VmfJ9JsaxKTO",
        "colab": {
          "base_uri": "https://localhost:8080/"
        },
        "outputId": "da7cf864-ac59-4c24-dfaf-681b119020d9"
      },
      "outputs": [
        {
          "output_type": "execute_result",
          "data": {
            "text/plain": [
              "GridSearchCV(cv=KFold(n_splits=3, random_state=12345, shuffle=True),\n",
              "             estimator=Pipeline(steps=[('scaler', MinMaxScaler()),\n",
              "                                       ('regressor',\n",
              "                                        KerasRegressor(callbacks=[<keras.callbacks.EarlyStopping object at 0x7fe129992c70>], epochs=30, model=<function create_neural_network at 0x7fe12987eca0>, verbose=False))]),\n",
              "             param_grid={'regressor__model__hidden_layers': [1, 2],\n",
              "                         'regressor__model__neurons': [10, 20],\n",
              "                         'regressor__model__regularization': [0.01, 0.1]},\n",
              "             scoring='neg_mean_squared_error')"
            ]
          },
          "metadata": {},
          "execution_count": 11
        }
      ],
      "source": [
        "callback = keras.callbacks.EarlyStopping(monitor='loss', patience=3)\n",
        "model_nn = KerasRegressor(model=create_neural_network, epochs=30, callbacks=[callback], verbose=False)\n",
        "pipeline_nn = Pipeline([('scaler', MinMaxScaler()),\n",
        "                        ('regressor', model_nn)])\n",
        "params_nn = {\n",
        "    \"regressor__model__hidden_layers\": [1, 2], \n",
        "    \"regressor__model__neurons\": [10, 20],\n",
        "    \"regressor__model__regularization\": [0.01, 0.1],\n",
        "    }\n",
        "\n",
        "inner_kfold = KFold(n_splits=3, shuffle=True, random_state=12345)\n",
        "grid_search_nn = GridSearchCV(pipeline_nn, params_nn, scoring='neg_mean_squared_error', cv=inner_kfold, refit=True)\n",
        "grid_search_nn"
      ]
    },
    {
      "cell_type": "markdown",
      "source": [
        "#### Ejecución Cross Validation"
      ],
      "metadata": {
        "id": "X0r8TvDZODCt"
      }
    },
    {
      "cell_type": "markdown",
      "metadata": {
        "id": "dxteyBLWxKTP"
      },
      "source": [
        "Se ejecuta un repeated k fold cross validation para estimar el desempeño promedio del modelo. En cada iteración se lleva a cabo la búsqueda de hyperparámetros con el GridSearchCV definido arriba."
      ]
    },
    {
      "cell_type": "code",
      "execution_count": null,
      "metadata": {
        "id": "FQUXVGEJxKTQ",
        "colab": {
          "base_uri": "https://localhost:8080/"
        },
        "outputId": "18034623-e9b5-486a-8d07-e407b6a63893"
      },
      "outputs": [
        {
          "output_type": "execute_result",
          "data": {
            "text/plain": [
              "array([0.2640282 , 0.29179135, 0.29671127, 0.28118333, 0.25794553,\n",
              "       0.2937058 , 0.28152644, 0.29396346, 0.27707345, 0.2818235 ,\n",
              "       0.28451037, 0.26679489])"
            ]
          },
          "metadata": {},
          "execution_count": 231
        }
      ],
      "source": [
        "outer_kfold = RepeatedKFold(n_splits=6, n_repeats=2, random_state=12345)\n",
        "cv_results_nn = - cross_val_score(grid_search_nn, X=X, y=y, cv=outer_kfold)\n",
        "cv_results_nn"
      ]
    },
    {
      "cell_type": "markdown",
      "source": [
        "#### Modelo Final"
      ],
      "metadata": {
        "id": "ZOwoTSy1NWIW"
      }
    },
    {
      "cell_type": "markdown",
      "metadata": {
        "id": "8sooWB5-xKTQ"
      },
      "source": [
        "Ahora que se estimó el desempeño del modelo, se ejecuta una única gridsearch para determinar cuáles fueron los hyperparámetros de mejor desempeño."
      ]
    },
    {
      "cell_type": "code",
      "execution_count": null,
      "metadata": {
        "id": "pDS6xgE8xKTQ",
        "colab": {
          "base_uri": "https://localhost:8080/"
        },
        "outputId": "875bd585-0bb2-4082-a7c6-6097ac1964ac"
      },
      "outputs": [
        {
          "output_type": "execute_result",
          "data": {
            "text/plain": [
              "{'regressor__model__hidden_layers': 2,\n",
              " 'regressor__model__neurons': 20,\n",
              " 'regressor__model__regularization': 0.1}"
            ]
          },
          "metadata": {},
          "execution_count": 12
        }
      ],
      "source": [
        "grid_search_nn.fit(X, y)\n",
        "grid_search_nn.best_params_"
      ]
    },
    {
      "cell_type": "markdown",
      "metadata": {
        "id": "pBvSMv-wIaCy"
      },
      "source": [
        "Se entrena un último modelo usando los mejores hyperparámetros sobre todo el dataset."
      ]
    },
    {
      "cell_type": "code",
      "execution_count": null,
      "metadata": {
        "id": "ZPXv8xO7I106"
      },
      "outputs": [],
      "source": [
        "X_train, X_test, y_train, y_test = train_test_split(X, y, test_size=0.1, random_state=123)\n",
        "\n",
        "best_model_nn = create_neural_network(* grid_search_nn.best_params_.values())\n",
        "best_model_nn = KerasRegressor(best_model_nn, epochs=30, callbacks=[callback], verbose=False, fit__validation_data = (X_test, y_test))\n",
        "best_pipeline_nn = Pipeline([('scaler', MinMaxScaler()),('regressor', best_model_nn)])\n",
        "best_pipeline_nn = best_pipeline_nn.fit(X_train, y_train)"
      ]
    },
    {
      "cell_type": "markdown",
      "source": [
        "##### Metricas Modelo Final"
      ],
      "metadata": {
        "id": "PVrs-oKPN9UB"
      }
    },
    {
      "cell_type": "markdown",
      "metadata": {
        "id": "pk2NjO-vzDFx"
      },
      "source": [
        "Se presentan las métricas obtenidas y se plotean las curvas de aprendizaje del set de entrenamiento y de test."
      ]
    },
    {
      "cell_type": "code",
      "execution_count": null,
      "metadata": {
        "id": "uLwDuc35PzEN",
        "colab": {
          "base_uri": "https://localhost:8080/"
        },
        "outputId": "f67fe6da-96e4-4f48-f6f3-1c42f363bd71"
      },
      "outputs": [
        {
          "output_type": "execute_result",
          "data": {
            "text/plain": [
              "loss                           0.298793\n",
              "mean_squared_error             0.281910\n",
              "root_mean_squared_error        0.530952\n",
              "r_square                      -0.000127\n",
              "val_loss                       0.288330\n",
              "val_mean_squared_error         0.271513\n",
              "val_root_mean_squared_error    0.521069\n",
              "val_r_square                  -0.000006\n",
              "Name: 7, dtype: float64"
            ]
          },
          "metadata": {},
          "execution_count": 14
        }
      ],
      "source": [
        "history = best_pipeline_nn['regressor'].model.history.history\n",
        "metrics = pd.DataFrame(history).iloc[-1]\n",
        "metrics"
      ]
    },
    {
      "cell_type": "code",
      "execution_count": null,
      "metadata": {
        "id": "ubkOq7F7PUqy",
        "colab": {
          "base_uri": "https://localhost:8080/",
          "height": 295
        },
        "outputId": "001a6024-4b28-4b3e-f8de-0e75d7aacaee"
      },
      "outputs": [
        {
          "output_type": "display_data",
          "data": {
            "text/plain": [
              "<Figure size 432x288 with 1 Axes>"
            ],
            "image/png": "[encoded data removed]"
          },
          "metadata": {
            "needs_background": "light"
          }
        }
      ],
      "source": [
        "def plot_history_loss(history_train_rmse, history_val_rmse):\n",
        "  plt.plot(history_train_rmse, alpha=0.7)\n",
        "  plt.plot(history_val_rmse, alpha=0.7)\n",
        "  plt.title('Loss vs Epoch')\n",
        "  plt.ylabel('Loss')\n",
        "  plt.xlabel('Epoch')\n",
        "  plt.legend(['training', 'testing'], loc='best')\n",
        "  plt.show()\n",
        "\n",
        "plot_history_loss(history['mean_squared_error'],  history['val_mean_squared_error'])"
      ]
    },
    {
      "cell_type": "markdown",
      "source": [
        "##### Exportar Modelo Final"
      ],
      "metadata": {
        "id": "yZQeEUTJNcKJ"
      }
    },
    {
      "cell_type": "markdown",
      "metadata": {
        "id": "n8acFWEbzGq8"
      },
      "source": [
        "Por último se guarda el modelo entrenado (arquitectura y pesos)."
      ]
    },
    {
      "cell_type": "code",
      "execution_count": null,
      "metadata": {
        "id": "eU8u9MPlU6WW",
        "colab": {
          "base_uri": "https://localhost:8080/"
        },
        "outputId": "7b95b339-b504-4f20-8b26-ed16a9d469e8"
      },
      "outputs": [
        {
          "output_type": "execute_result",
          "data": {
            "text/plain": [
              "['best_pipeline_nn.joblib']"
            ]
          },
          "metadata": {},
          "execution_count": 236
        }
      ],
      "source": [
        "best_pipeline_nn['regressor'].fit__validation_data = None # Se elimina la validation_data para guardar\n",
        "best_pipeline_nn['regressor'].model.save('best_model_nn.h5')\n",
        "best_pipeline_nn['regressor'].model = None\n",
        "joblib.dump(best_pipeline_nn, 'best_pipeline_nn.joblib')"
      ]
    },
    {
      "cell_type": "markdown",
      "metadata": {
        "id": "uDmij3lBxKTS"
      },
      "source": [
        "## Comparación de modelos"
      ]
    },
    {
      "cell_type": "markdown",
      "metadata": {
        "id": "g6GSpZQSxKTS"
      },
      "source": [
        "Se calcula la media de los resultados obtenidos en el repeated cross validation y se halla que en promedio la regresión lineal se desempeñó mejor que la red neuronal"
      ]
    },
    {
      "cell_type": "code",
      "source": [
        "np.mean(cv_results_LR)"
      ],
      "metadata": {
        "colab": {
          "base_uri": "https://localhost:8080/"
        },
        "id": "8o2fdH_myWdu",
        "outputId": "835f7aab-c1b9-4713-8e63-d72241f4e5fc"
      },
      "execution_count": null,
      "outputs": [
        {
          "output_type": "execute_result",
          "data": {
            "text/plain": [
              "0.2593376587284966"
            ]
          },
          "metadata": {},
          "execution_count": 245
        }
      ]
    },
    {
      "cell_type": "code",
      "source": [
        "np.mean(cv_results_nn)"
      ],
      "metadata": {
        "colab": {
          "base_uri": "https://localhost:8080/"
        },
        "id": "5YUP9R4IyZsg",
        "outputId": "c97e5073-e0a0-4f7f-c9e8-ca81da8a906c"
      },
      "execution_count": null,
      "outputs": [
        {
          "output_type": "execute_result",
          "data": {
            "text/plain": [
              "0.2809214661200862"
            ]
          },
          "metadata": {},
          "execution_count": 246
        }
      ]
    },
    {
      "cell_type": "markdown",
      "source": [
        "Se lleva a cabo el test de wilcoxon, con nivel de significancia $\\alpha = 0.05$, para evaluar si hay evidencia estadística de que la regresión lineal es mejor que la red neuronal"
      ],
      "metadata": {
        "id": "d-cbj6yOyu_e"
      }
    },
    {
      "cell_type": "code",
      "execution_count": null,
      "metadata": {
        "id": "o67svZMdxKTS",
        "colab": {
          "base_uri": "https://localhost:8080/"
        },
        "outputId": "74f90a6b-dd5e-4d74-9e16-96fdcbc40138"
      },
      "outputs": [
        {
          "output_type": "execute_result",
          "data": {
            "text/plain": [
              "WilcoxonResult(statistic=0.0, pvalue=0.000244140625)"
            ]
          },
          "metadata": {},
          "execution_count": 248
        }
      ],
      "source": [
        "wilcoxon(cv_results_LR, cv_results_nn, alternative='less')"
      ]
    },
    {
      "cell_type": "markdown",
      "source": [
        "Se obtuvo que $p_{value} = 0.0002 < 0.05 = \\alpha$. Se concluye que hay evidencia estadística para afirmar que la regresión lineal regularizada usando elastic net tiene un mejor desempeño que la red neuronal, para la tarea específica de estimar la review promedio de una película "
      ],
      "metadata": {
        "id": "uhWnVDN0zAdd"
      }
    },
    {
      "cell_type": "markdown",
      "source": [
        "## Cargar modelos guardados"
      ],
      "metadata": {
        "id": "jP9yg8seGBl6"
      }
    },
    {
      "cell_type": "code",
      "source": [
        "saved_models_ids = [\"1Kr2DhLvGzbF8WWVsREQ8tQfsJjgzrLcn\", \"1UV28RJXYFCjM-GRAtTCjRCs8LJroNnbN\", \"1NNr083i03hXyxTx8NZTzYIw46zQrt4Vb\"]\n",
        "for id in saved_models_ids:\n",
        "  gdown.download(f\"https://drive.google.com/uc?id={id}\")"
      ],
      "metadata": {
        "colab": {
          "base_uri": "https://localhost:8080/"
        },
        "id": "0gM5IOblJvFD",
        "outputId": "3ca916ff-ca73-4627-b2d6-4516b7c5d396"
      },
      "execution_count": null,
      "outputs": [
        {
          "output_type": "stream",
          "name": "stderr",
          "text": [
            "Downloading...\n",
            "From: https://drive.google.com/uc?id=1Kr2DhLvGzbF8WWVsREQ8tQfsJjgzrLcn\n",
            "To: /content/best_pipeline_LR.joblib\n",
            "100%|██████████| 5.06k/5.06k [00:00<00:00, 6.71MB/s]\n",
            "Downloading...\n",
            "From: https://drive.google.com/uc?id=1UV28RJXYFCjM-GRAtTCjRCs8LJroNnbN\n",
            "To: /content/best_pipeline_nn.joblib\n",
            "100%|██████████| 244k/244k [00:00<00:00, 57.2MB/s]\n",
            "Downloading...\n",
            "From: https://drive.google.com/uc?id=1NNr083i03hXyxTx8NZTzYIw46zQrt4Vb\n",
            "To: /content/best_model_nn.h5\n",
            "100%|██████████| 50.7k/50.7k [00:00<00:00, 38.8MB/s]\n"
          ]
        }
      ]
    },
    {
      "cell_type": "markdown",
      "source": [
        "### Regresión Lineal"
      ],
      "metadata": {
        "id": "I7ZOtiYNGm5P"
      }
    },
    {
      "cell_type": "code",
      "source": [
        "best_pipeline_LR = joblib.load(\"best_pipeline_LR.joblib\")\n",
        "best_pipeline_LR"
      ],
      "metadata": {
        "colab": {
          "base_uri": "https://localhost:8080/"
        },
        "id": "t_j-aN3mGtLB",
        "outputId": "f72dc1c6-5f67-41e9-a533-39fdd81be404"
      },
      "execution_count": null,
      "outputs": [
        {
          "output_type": "execute_result",
          "data": {
            "text/plain": [
              "Pipeline(steps=[('polyfeats', PolynomialFeatures(degree=1)),\n",
              "                ('minmax', MinMaxScaler()),\n",
              "                ('elasticnet', ElasticNet(alpha=0.01, l1_ratio=0.25))])"
            ]
          },
          "metadata": {},
          "execution_count": 23
        }
      ]
    },
    {
      "cell_type": "markdown",
      "source": [
        "### Red Neuronal"
      ],
      "metadata": {
        "id": "ZdGhGS6rGrIb"
      }
    },
    {
      "cell_type": "code",
      "source": [
        "best_pipeline_nn = joblib.load(\"best_pipeline_nn.joblib\")\n",
        "best_model_nn = keras.models.load_model(\"best_model_nn.h5\", custom_objects={ 'rating_activation': rating_activation })\n",
        "best_pipeline_nn['regressor'].model = best_model_nn\n",
        "best_pipeline_nn"
      ],
      "metadata": {
        "colab": {
          "base_uri": "https://localhost:8080/"
        },
        "id": "oq3vek_OGE0W",
        "outputId": "3678fa91-1e24-4653-c017-3ad4ec782819"
      },
      "execution_count": null,
      "outputs": [
        {
          "output_type": "execute_result",
          "data": {
            "text/plain": [
              "Pipeline(steps=[('scaler', MinMaxScaler()),\n",
              "                ('regressor',\n",
              "                 KerasRegressor(callbacks=[<keras.callbacks.EarlyStopping object at 0x7fe120a17eb0>], epochs=30, fit__validation_data=None, model=<keras.engine.sequential.Sequential object at 0x7fe120a175b0>, verbose=False))])"
            ]
          },
          "metadata": {},
          "execution_count": 24
        }
      ]
    },
    {
      "cell_type": "markdown",
      "metadata": {
        "id": "LwqVWOiQxKTT"
      },
      "source": [
        "# Conclusiones"
      ]
    },
    {
      "cell_type": "markdown",
      "source": [
        "Al llevar a cabo el cross validation con optimización de hyperparámetros se halló que el error cuadrático medio del modelo de regresión lineal ElasticNet fue de 0.2593 y el de la red neuronal fue 0.2809. Considerando que nuestro baseline de error cuadrático es de 0.2808 se concluye que ninguno de los modelos presenta una mejora sustancial frente al baseline. \n",
        "\n",
        "Esto se puede explicar en el hecho de que en realidad no existe una correlación clara entre los tags que describen a la película y el rating promedio que obtiene dicha película. Una evidencia de esto es que la learning curve de loss vs tamaño del set de entrenamiento, tanto en training como en testing, se estanca a partir de los 6000 datos. Esto nos indica que aumentar más datos tampoco es provechoso para hallar nuevas relaciones entra las entradas y salida de nuestro modelo.\n",
        "\n",
        "Lo que sí es verdad es que el modelo de regresión lineal es ligeramente superior a la red neuronal en nuestra tarea (T). Al llevar a cabo el test de wilcoxon con una muestra de tamaño 12 del error cuadrático medio de cada uno de los modelos, se evaluó la hipótesis de que la regresión lineal es superior a la red neuronal, y se obtuvo un valor $p = 0.0002$. Considerando un nivel de significancia $\\alpha = 0.05$ se comprueba la hipótesis planteada.\n",
        "\n",
        "Se cree que la razón por la que la red neuronal no superó ni siquiera al baseline no tuvo que ver con el tiempo de entrenamiento, ya que la curva de aprendizaje de loss vs epoch se estanca bastante rápido. Más bien creemos que al incrementar la complejidad del modelo se obscureció la mínima correlación (si existía) entre las entradas y salidas del modelo."
      ],
      "metadata": {
        "id": "-GD5EHHX-7lx"
      }
    },
    {
      "cell_type": "markdown",
      "metadata": {
        "id": "5ao2eVQRxKTT"
      },
      "source": [
        "# Referencias"
      ]
    },
    {
      "cell_type": "markdown",
      "metadata": {
        "id": "_HPllpWQxKTT"
      },
      "source": [
        "* (2020) Basic usage - SciKeras 0.9.0 documentation. Available at: https://www.adriangb.com/scikeras/refs/heads/master/notebooks/Basic_Usage.html#7.-Usage-with-sklearn-GridSearchCV. \n",
        "\n",
        "* Brownlee, J. (2021) Nested cross-validation for Machine Learning with python, MachineLearningMastery.com. Available at: https://machinelearningmastery.com/nested-cross-validation-for-machine-learning-with-python/. \n",
        "\n",
        "* Cross-validation: Evaluating estimator performance (2022) scikit. Available at: https://scikit-learn.org/stable/modules/cross_validation.html#cross-validation. \n",
        "\n",
        "* Elastic net (2022) Corporate Finance Institute. Available at: https://corporatefinanceinstitute.com/resources/data-science/elastic-net/. \n",
        "Kanumuru, A. (2021) Scikit-learn pipeline tutorial with parameter tuning and cross-validation, Medium. Towards Data Science. Available at: https://towardsdatascience.com/scikit-learn-pipeline-tutorial-with-parameter-tuning-and-cross-validation-e5b8280c01fb. \n",
        "\n",
        "* Movielens latest datasets (2021) GroupLens. Available at: https://grouplens.org/datasets/movielens/latest/. \n",
        "Olteanu, A. (2022) Tutorial: Learning curves for machine learning in Python, Dataquest. Available at: https://www.dataquest.io/blog/learning-curves-machine-learning/. \n",
        "\n",
        "* Plotting learning curves and checking models' scalability (2022) scikit. Available at: https://scikit-learn.org/stable/auto_examples/model_selection/plot_learning_curve.html. \n",
        "\n",
        "* Scipy.stats.wilcoxon (2022) scipy.stats.wilcoxon - SciPy v1.9.3 Manual. SciPy. Available at: https://docs.scipy.org/doc/scipy/reference/generated/scipy.stats.wilcoxon.html. \n",
        "\n",
        "* Sklearn.linear_model.ElasticNet (2022) scikit. Available at: https://scikit-learn.org/stable/modules/generated/sklearn.linear_model.ElasticNet.html. \n",
        "\n",
        "* Text classification with Movie Reviews: tensorflow hub (2022) TensorFlow. Available at: https://www.tensorflow.org/hub/tutorials/tf2_text_classification. \n",
        "\n",
        "* Tf.keras.callbacks.earlystopping:&nbsp;tensorflow V2.11.0 (2022) TensorFlow. Available at: https://www.tensorflow.org/api_docs/python/tf/keras/callbacks/EarlyStopping. "
      ]
    }
  ],
  "metadata": {
    "colab": {
      "provenance": [],
      "collapsed_sections": [
        "mj-2Y3TkxKTC",
        "zDgSw84XxKTE",
        "E7_UGdIRxKTG",
        "urlf73NOxKTH",
        "68TGHpUgxKTI",
        "-jzW1ErEFS7I",
        "_XyFYrBFxKTK",
        "cH1VP1HBTEDh",
        "mVt30kMITJ0s",
        "-sjErWXTxTIJ",
        "jyGgtxims-Pj",
        "vxhvoxkNXZoR",
        "3xh8DboOxKTL",
        "CDfHRlk0Tahv",
        "IqW-mjulTfXm",
        "X0r8TvDZODCt",
        "ZOwoTSy1NWIW",
        "I7ZOtiYNGm5P",
        "ZdGhGS6rGrIb"
      ]
    },
    "kernelspec": {
      "display_name": "Python 3.9.13 64-bit",
      "language": "python",
      "name": "python3"
    },
    "language_info": {
      "codemirror_mode": {
        "name": "ipython",
        "version": 3
      },
      "file_extension": ".py",
      "mimetype": "text/x-python",
      "name": "python",
      "nbconvert_exporter": "python",
      "pygments_lexer": "ipython3",
      "version": "3.9.13"
    },
    "vscode": {
      "interpreter": {
        "hash": "b5e66119bb7eb320cb615f17e3cf77c9243e0a63123323491c6aa600a9594b9f"
      }
    }
  },
  "nbformat": 4,
  "nbformat_minor": 0
}